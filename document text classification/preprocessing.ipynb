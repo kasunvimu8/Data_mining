{
 "cells": [
  {
   "cell_type": "code",
   "execution_count": 157,
   "metadata": {},
   "outputs": [],
   "source": [
    "text_file = open(\"trainset.txt\", \"r\")\n",
    "lines = text_file.readlines()\n",
    "#print(lines[1])\n",
    "text_file.close()\n",
    "#read line by line"
   ]
  },
  {
   "cell_type": "code",
   "execution_count": 156,
   "metadata": {},
   "outputs": [],
   "source": [
    "listOfAttributes = [] # implicit instantiation\n",
    "listOfAttributes.append([])\n",
    "i = 0\n",
    "while i < len(lines):\n",
    "    attributes = lines[i].split('\\t') #split it by tab\n",
    "    listOfAttributes.append([])\n",
    "    listOfAttributes[i].append(attributes[0])\n",
    "    listOfAttributes[i].append(attributes[1])\n",
    "    listOfAttributes[i].append(attributes[2])\n",
    "    listOfAttributes[i].append(attributes[3])\n",
    "    i+=1\n",
    "    \n",
    "    \n",
    "#print(listOfAttributes[0])\n",
    "# print(len(listOfAttributes) )"
   ]
  },
  {
   "cell_type": "code",
   "execution_count": 178,
   "metadata": {},
   "outputs": [],
   "source": [
    "#Doing prepossesing\n",
    "import re #regex\n",
    "from nltk.corpus import stopwords\n",
    "from nltk.stem import PorterStemmer\n",
    "\n",
    "def preprocess(eliment):\n",
    "      \n",
    "    eliment = re.sub(r'([^\\s\\w]|_)+', '', eliment) # Remove all the special characters except space\n",
    "    eliment = eliment.lower()\n",
    "    eliment = re.sub(r'\\s+', ' ', eliment, flags=re.I)# Substituting multiple spaces with single space\n",
    "\n",
    "    all_words = eliment.split()\n",
    "    en_stops = set(stopwords.words('english')) #stopword handle\n",
    "    eliment = \"\"\n",
    "    ps = PorterStemmer() #stemming handle  \n",
    "\n",
    "    for word in all_words: \n",
    "        if word not in en_stops:   \n",
    "            eliment +=  ps.stem(word) +\" \"\n",
    "\n",
    "    return eliment \n",
    "\n",
    "listOfAttributesProcessed = [] # implicit instantiation\n",
    "listOfAttributesProcessed.append([])\n",
    "i = 0\n",
    "while i <len(lines):\n",
    "    listOfAttributesProcessed.append([])\n",
    "    listOfAttributesProcessed[i].append(listOfAttributes[i][0])\n",
    "    \n",
    "    processedEliment1= preprocess(listOfAttributes[i][1] )\n",
    "  #  listOfAttributesProcessed[i].append(processedEliment1)\n",
    "    \n",
    "    processedEliment2= preprocess(listOfAttributes[i][2] )\n",
    "  #  listOfAttributesProcessed[i].append(processedEliment2)\n",
    "    \n",
    "    processedEliment3= preprocess(listOfAttributes[i][3] )\n",
    "    \n",
    "    AllEliments = processedEliment1+processedEliment2+processedEliment3 #combine attributes\n",
    "    \n",
    "    listOfAttributesProcessed[i].append(AllEliments)\n",
    "\n",
    "#    print(listOfAttributesProcessed[i])  \n",
    "    i+=1\n"
   ]
  },
  {
   "cell_type": "code",
   "execution_count": 185,
   "metadata": {},
   "outputs": [
    {
     "ename": "AttributeError",
     "evalue": "'list' object has no attribute 'head'",
     "output_type": "error",
     "traceback": [
      "\u001b[1;31m---------------------------------------------------------------------------\u001b[0m",
      "\u001b[1;31mAttributeError\u001b[0m                            Traceback (most recent call last)",
      "\u001b[1;32m<ipython-input-185-24562769dc60>\u001b[0m in \u001b[0;36m<module>\u001b[1;34m()\u001b[0m\n\u001b[1;32m----> 1\u001b[1;33m \u001b[0mprint\u001b[0m\u001b[1;33m(\u001b[0m\u001b[0mlistOfAttributesProcessed\u001b[0m\u001b[1;33m.\u001b[0m\u001b[0mhead\u001b[0m\u001b[1;33m(\u001b[0m\u001b[1;33m)\u001b[0m\u001b[1;33m)\u001b[0m\u001b[1;33m\u001b[0m\u001b[0m\n\u001b[0m",
      "\u001b[1;31mAttributeError\u001b[0m: 'list' object has no attribute 'head'"
     ]
    }
   ],
   "source": [
    " print(listOfAttributesProcessed.head())\n"
   ]
  }
 ],
 "metadata": {
  "kernelspec": {
   "display_name": "Python 3",
   "language": "python",
   "name": "python3"
  },
  "language_info": {
   "codemirror_mode": {
    "name": "ipython",
    "version": 3
   },
   "file_extension": ".py",
   "mimetype": "text/x-python",
   "name": "python",
   "nbconvert_exporter": "python",
   "pygments_lexer": "ipython3",
   "version": "3.7.0"
  }
 },
 "nbformat": 4,
 "nbformat_minor": 2
}
