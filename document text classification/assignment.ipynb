{
 "cells": [
  {
   "cell_type": "code",
   "execution_count": 157,
   "metadata": {},
   "outputs": [],
   "source": [
    "text_file = open(\"trainset.txt\", \"r\")\n",
    "lines = text_file.readlines()\n",
    "#print(lines[1])\n",
    "text_file.close()\n",
    "#read line by line"
   ]
  },
  {
   "cell_type": "code",
   "execution_count": 277,
   "metadata": {},
   "outputs": [],
   "source": [
    "listOfAttributes = [] # implicit instantiation\n",
    "listOfAttributes.append([])\n",
    "i = 0\n",
    "while i < len(lines):\n",
    "    attributes = lines[i].split('\\t') #split it by tab\n",
    "    listOfAttributes.append([])\n",
    "    listOfAttributes[i].append(attributes[0])\n",
    "    listOfAttributes[i].append(attributes[1])\n",
    "    listOfAttributes[i].append(attributes[2])\n",
    "    listOfAttributes[i].append(attributes[3])\n",
    "    i+=1\n",
    "        \n",
    "#print(listOfAttributes[0])\n",
    "# print(len(listOfAttributes) )"
   ]
  },
  {
   "cell_type": "markdown",
   "metadata": {},
   "source": [
    "### Prepossesing"
   ]
  },
  {
   "cell_type": "code",
   "execution_count": 294,
   "metadata": {},
   "outputs": [],
   "source": [
    "#Doing prepossesing\n",
    "import re #regex\n",
    "from nltk.corpus import stopwords\n",
    "from nltk.stem import PorterStemmer\n",
    "\n",
    "def preprocess(eliment):\n",
    "      \n",
    "    eliment = re.sub(r'([^\\s\\w]|_)+', '', eliment) # Remove all the special characters except space\n",
    "    eliment = eliment.lower()\n",
    "    eliment = re.sub(r'\\s+', ' ', eliment, flags=re.I)# Substituting multiple spaces with single space\n",
    "\n",
    "    all_words = eliment.split()\n",
    "    en_stops = set(stopwords.words('english')) #stopword handle\n",
    "    eliment = \"\"\n",
    "    ps = PorterStemmer() #stemming handle  \n",
    "\n",
    "    for word in all_words: \n",
    "        if word not in en_stops:   \n",
    "            eliment +=  ps.stem(word) +\" \"\n",
    "\n",
    "    return eliment \n",
    "\n",
    "listOfAttributesProcessed = [] # implicit instantiation\n",
    "listOfAttributesProcessed.append([])\n",
    "i = 0\n",
    "while i <len(lines):\n",
    "    listOfAttributesProcessed.append([])\n",
    "    listOfAttributesProcessed[i].append(listOfAttributes[i][0])\n",
    "    \n",
    "    processedEliment1= preprocess(listOfAttributes[i][1] )\n",
    "    processedEliment2= preprocess(listOfAttributes[i][2] )\n",
    "    processedEliment3= preprocess(listOfAttributes[i][3] )\n",
    "    \n",
    "    AllEliments = processedEliment1+processedEliment2+processedEliment3 #combine attributes\n",
    "    \n",
    "    listOfAttributesProcessed[i].append(AllEliments)\n",
    "\n",
    "#    print(listOfAttributesProcessed[i])  \n",
    "    i+=1"
   ]
  },
  {
   "cell_type": "code",
   "execution_count": 187,
   "metadata": {},
   "outputs": [],
   "source": [
    "import csv\n",
    "\n",
    "with open(\"featuresTrain.csv\", \"w\") as f:\n",
    "    writer = csv.writer(f)\n",
    "    writer.writerows(listOfAttributesProcessed)"
   ]
  },
  {
   "cell_type": "code",
   "execution_count": 290,
   "metadata": {},
   "outputs": [],
   "source": [
    "import numpy as np\n",
    "import pandas as pd\n",
    "from sklearn.feature_extraction.text import CountVectorizer\n",
    "from sklearn.cross_validation import train_test_split\n",
    "from sklearn.naive_bayes import MultinomialNB\n",
    "from sklearn.feature_extraction.text import TfidfVectorizer\n",
    "from sklearn.metrics import classification_report\n",
    "\n",
    "df=pd.read_csv('featuresTrain.csv',sep=',',names=['class','text'])\n",
    "df.head();"
   ]
  },
  {
   "cell_type": "markdown",
   "metadata": {},
   "source": [
    "### Traning and testing data extraction"
   ]
  },
  {
   "cell_type": "code",
   "execution_count": 296,
   "metadata": {},
   "outputs": [],
   "source": [
    "df_x=df[\"text\"]\n",
    "df_y=df[\"class\"]\n",
    "cv = TfidfVectorizer(min_df=1)\n",
    "x_train, x_test, y_train, y_test = train_test_split(df_x, df_y, test_size=0.333, random_state=0)\n"
   ]
  },
  {
   "cell_type": "code",
   "execution_count": 297,
   "metadata": {},
   "outputs": [],
   "source": [
    "cv = TfidfVectorizer(max_features=1500, min_df=1, max_df=0.7) #minimum number of documents that should contain this feature\n",
    "x_traincv=cv.fit_transform(x_train)\n",
    "a=x_traincv.toarray()"
   ]
  },
  {
   "cell_type": "markdown",
   "metadata": {},
   "source": [
    "### Predictions"
   ]
  },
  {
   "cell_type": "code",
   "execution_count": 342,
   "metadata": {},
   "outputs": [],
   "source": [
    "mnb = MultinomialNB()\n",
    "mnb.fit(x_traincv,y_train);\n",
    "#x_testcv=cv.transform(x_test);\n",
    "x_testcv.toarray();\n",
    "predictions=mnb.predict(x_testcv)\n",
    "#print(predictions);"
   ]
  },
  {
   "cell_type": "markdown",
   "metadata": {},
   "source": [
    "### Accuracies"
   ]
  },
  {
   "cell_type": "code",
   "execution_count": 298,
   "metadata": {},
   "outputs": [
    {
     "name": "stdout",
     "output_type": "stream",
     "text": [
      "Training Accuracy:  1.0\n"
     ]
    }
   ],
   "source": [
    "actual=np.array(y_test)\n",
    "print('Training Accuracy: ',mnb.score(x_traincv,y_train))"
   ]
  },
  {
   "cell_type": "code",
   "execution_count": 281,
   "metadata": {},
   "outputs": [
    {
     "name": "stdout",
     "output_type": "stream",
     "text": [
      "Testing Accuracy:  0.9552238805970149\n"
     ]
    }
   ],
   "source": [
    "# calculate accuracy of class predictions\n",
    "from sklearn import metrics\n",
    "acc = metrics.accuracy_score(actual, predictions)\n",
    "print('Testing Accuracy: ',acc)"
   ]
  },
  {
   "cell_type": "markdown",
   "metadata": {},
   "source": [
    "### Confution matrix"
   ]
  },
  {
   "cell_type": "code",
   "execution_count": 343,
   "metadata": {
    "scrolled": false
   },
   "outputs": [
    {
     "name": "stdout",
     "output_type": "stream",
     "text": [
      "[[23  0]\n",
      " [ 3 41]]\n"
     ]
    }
   ],
   "source": [
    "print(metrics.confusion_matrix(actual, predictions)) #confusion matrix"
   ]
  },
  {
   "cell_type": "markdown",
   "metadata": {},
   "source": [
    "Confusion matrix \n",
    "[TN FP\n",
    " FN TP]"
   ]
  },
  {
   "cell_type": "markdown",
   "metadata": {},
   "source": [
    "### Classification report"
   ]
  },
  {
   "cell_type": "code",
   "execution_count": 344,
   "metadata": {},
   "outputs": [
    {
     "name": "stdout",
     "output_type": "stream",
     "text": [
      "             precision    recall  f1-score   support\n",
      "\n",
      "         +1       0.88      1.00      0.94        23\n",
      "         -1       1.00      0.93      0.96        44\n",
      "\n",
      "avg / total       0.96      0.96      0.96        67\n",
      "\n"
     ]
    }
   ],
   "source": [
    "target_names =[\"+1\", \"-1\"]\n",
    "print(classification_report(actual, predictions, target_names=target_names))"
   ]
  },
  {
   "cell_type": "markdown",
   "metadata": {},
   "source": [
    "### testsetwithoutlabels.txt prediction"
   ]
  },
  {
   "cell_type": "code",
   "execution_count": 345,
   "metadata": {},
   "outputs": [
    {
     "name": "stdout",
     "output_type": "stream",
     "text": [
      "[ 1  1  1 -1 -1  1 -1 -1 -1 -1 -1 -1  1  1 -1  1  1  1  1  1 -1 -1 -1 -1\n",
      " -1 -1  1 -1 -1 -1 -1  1 -1  1 -1  1 -1  1 -1 -1 -1  1 -1 -1  1 -1  1 -1\n",
      "  1 -1  1  1 -1 -1  1 -1  1  1  1 -1 -1 -1 -1 -1  1 -1  1  1  1 -1  1 -1\n",
      " -1 -1  1 -1 -1  1  1 -1  1 -1  1 -1  1 -1 -1  1  1  1  1  1  1 -1  1 -1\n",
      " -1  1 -1  1]\n"
     ]
    }
   ],
   "source": [
    "text_file = open(\"testsetwithoutlabels.txt\", \"r\")\n",
    "lines = text_file.readlines()\n",
    "#print(lines)\n",
    "test=cv.transform(lines);\n",
    "test.toarray();\n",
    "predictions=mnb.predict(test)\n",
    "print(predictions)"
   ]
  }
 ],
 "metadata": {
  "kernelspec": {
   "display_name": "Python 3",
   "language": "python",
   "name": "python3"
  },
  "language_info": {
   "codemirror_mode": {
    "name": "ipython",
    "version": 3
   },
   "file_extension": ".py",
   "mimetype": "text/x-python",
   "name": "python",
   "nbconvert_exporter": "python",
   "pygments_lexer": "ipython3",
   "version": "3.7.0"
  }
 },
 "nbformat": 4,
 "nbformat_minor": 2
}
