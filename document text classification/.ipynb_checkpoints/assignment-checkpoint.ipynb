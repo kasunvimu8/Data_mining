{
 "cells": [
  {
   "cell_type": "markdown",
   "metadata": {},
   "source": [
    "# Document classification\n",
    "Text documents are one of the richest sources of data for businesses: whether in the shape of customer support tickets, emails, technical documents, user reviews or news articles, they all contain valuable information that can be used to automate slow manual processes, better understand users, or find valuable insights.\n",
    "\n",
    "first of all i have read the trainset.txt and read it line by line.all the lines are saved in a array list called lines.\n"
   ]
  },
  {
   "cell_type": "code",
   "execution_count": 1,
   "metadata": {},
   "outputs": [],
   "source": [
    "text_file = open(\"trainset.txt\", \"r\")\n",
    "lines = text_file.readlines()\n",
    "#print(lines[1])\n",
    "text_file.close()\n",
    "#read line by line"
   ]
  },
  {
   "cell_type": "raw",
   "metadata": {},
   "source": [
    "Since any row contain four columns which contain the deatils about class , title ,date and body.Therefore i saved them separatedly in 2D array with size ( len(lines) * 4)."
   ]
  },
  {
   "cell_type": "code",
   "execution_count": 2,
   "metadata": {},
   "outputs": [],
   "source": [
    "listOfAttributes = [] # implicit instantiation\n",
    "listOfAttributes.append([])\n",
    "i = 0\n",
    "while i < len(lines):\n",
    "    attributes = lines[i].split('\\t') #split it by tab\n",
    "    listOfAttributes.append([])\n",
    "    listOfAttributes[i].append(attributes[0])\n",
    "    listOfAttributes[i].append(attributes[1])\n",
    "    listOfAttributes[i].append(attributes[2])\n",
    "    listOfAttributes[i].append(attributes[3])\n",
    "    i+=1\n",
    "        \n",
    "#print(listOfAttributes[0])\n",
    "# print(len(listOfAttributes) )"
   ]
  },
  {
   "cell_type": "markdown",
   "metadata": {},
   "source": [
    "### Prepossesing\n",
    " For achieving better results from the applied model in Machine Learning, the format of the data has to be in a proper manner. Some specified Machine Learning model needs information in a specified format, for example, Random Forest algorithm does not support null values, therefore to execute random forest algorithm null values have to be managed from the original raw data set.\n",
    " \n",
    "Another aspect is that data set should be formatted in such a way that more than one Machine Learning and Deep Learning algorithms are executed in one data set, and best out of them is chosen.That is why text prepossesing used.\n",
    "In this project we use Regex for do that task easily.\n",
    "\n",
    "1).Remove all the special characters except space\n",
    "\n",
    "2).Substituting multiple spaces with single space\n",
    "\n",
    "3).stemming handle\n",
    "\n",
    "4).stopword handle\n",
    "\n",
    "after that these data are good for go.\n",
    "\n",
    "I could use either predictions separately or combine the all the columns except class column. As research suggest that the accuracy will be higher when we have all in one cloumn.Therefore i have to combine the title ,date and body together and create a new string and them them in 2D array with size  (len(lines) * 2)."
   ]
  },
  {
   "cell_type": "code",
   "execution_count": 3,
   "metadata": {},
   "outputs": [],
   "source": [
    "#Doing prepossesing\n",
    "import re #regex\n",
    "from nltk.corpus import stopwords\n",
    "from nltk.stem import PorterStemmer\n",
    "\n",
    "def preprocess(eliment):\n",
    "      \n",
    "    eliment = re.sub(r'([^\\s\\w]|_)+', '', eliment) # Remove all the special characters except space\n",
    "    eliment = eliment.lower()\n",
    "    eliment = re.sub(r'\\s+', ' ', eliment, flags=re.I)# Substituting multiple spaces with single space\n",
    "\n",
    "    all_words = eliment.split()\n",
    "    en_stops = set(stopwords.words('english')) #stopword handle\n",
    "    eliment = \"\"\n",
    "    ps = PorterStemmer() #stemming handle  \n",
    "\n",
    "    for word in all_words: \n",
    "        if word not in en_stops:   \n",
    "            eliment +=  ps.stem(word) +\" \"\n",
    "\n",
    "    return eliment \n",
    "\n",
    "listOfAttributesProcessed = [] # implicit instantiation\n",
    "listOfAttributesProcessed.append([])\n",
    "i = 0\n",
    "while i <len(lines):\n",
    "    listOfAttributesProcessed.append([])\n",
    "    listOfAttributesProcessed[i].append(listOfAttributes[i][0])\n",
    "    \n",
    "    processedEliment1= preprocess(listOfAttributes[i][1] )\n",
    "    processedEliment2= preprocess(listOfAttributes[i][2] )\n",
    "    processedEliment3= preprocess(listOfAttributes[i][3] )\n",
    "    \n",
    "    AllEliments = processedEliment1+processedEliment2+processedEliment3 #combine attributes\n",
    "    \n",
    "    listOfAttributesProcessed[i].append(AllEliments)\n",
    "\n",
    "#    print(listOfAttributesProcessed[i])  \n",
    "    i+=1"
   ]
  },
  {
   "cell_type": "raw",
   "metadata": {},
   "source": [
    "It will be easy to read the data from csv file rather from the array.Hence i weite the arrays to csv file and then read it."
   ]
  },
  {
   "cell_type": "code",
   "execution_count": 4,
   "metadata": {},
   "outputs": [],
   "source": [
    "import csv\n",
    "with open(\"featuresTrain.csv\", \"w\") as f:\n",
    "    writer = csv.writer(f)\n",
    "    writer.writerows(listOfAttributesProcessed)"
   ]
  },
  {
   "cell_type": "code",
   "execution_count": 22,
   "metadata": {},
   "outputs": [],
   "source": [
    "import numpy as np\n",
    "import pandas as pd\n",
    "import warnings\n",
    "\n",
    "warnings.filterwarnings(\"ignore\") #remove warnings\n",
    "from sklearn.feature_extraction.text import CountVectorizer\n",
    "from sklearn.cross_validation import train_test_split\n",
    "from sklearn.naive_bayes import MultinomialNB\n",
    "from sklearn.feature_extraction.text import TfidfVectorizer\n",
    "from sklearn.metrics import classification_report\n",
    "\n",
    "df=pd.read_csv('featuresTrain.csv',sep=',',names=['class','text'])\n",
    "df.head();"
   ]
  },
  {
   "cell_type": "markdown",
   "metadata": {},
   "source": [
    "### Traning and testing data extraction\n",
    "We can grab whole \" text data \" and \" class data \" and we can split the data.In here we use  2/3 for trainning the algorithem and others for testing."
   ]
  },
  {
   "cell_type": "code",
   "execution_count": 6,
   "metadata": {},
   "outputs": [],
   "source": [
    "df_x=df[\"text\"]\n",
    "df_y=df[\"class\"]\n",
    "cv = TfidfVectorizer(min_df=1)\n",
    "x_train, x_test, y_train, y_test = train_test_split(df_x, df_y, test_size=0.333, random_state=0)\n"
   ]
  },
  {
   "cell_type": "markdown",
   "metadata": {},
   "source": [
    "######  \n",
    "The script above uses TfidfVectorizer class from the sklearn.feature_extraction.text library. There are some important parameters that are required to be passed to the constructor of the class. The first parameter is the max_features parameter, which is set to 1500. This is because when you convert words to numbers using the bag of words approach, all the unique words in all the documents are converted into features. All the instances can contain tens of thousands of unique words. But the words that have a very low frequency of occurrence are unusually not a good parameter for classifying instance. Therefore we set the max_features parameter to 1500, which means that we want to use 1500 most occurring words as features for training our classifier.\n",
    "\n",
    "The next parameter is min_df and it has been set to 5. This corresponds to the minimum number of documents that should contain this feature. So we only include those words that occur in at least 5 documents. Similarly, for the max_df, feature the value is set to 0.7; in which the fraction corresponds to a percentage. Here 0.7 means that we should include only those words that occur in a maximum of 70% of all the instances. Words that occur in almost every instance are usually not suitable for classification because they do not provide any unique information about the paragraph.\n"
   ]
  },
  {
   "cell_type": "code",
   "execution_count": 7,
   "metadata": {},
   "outputs": [],
   "source": [
    "cv = TfidfVectorizer(max_features=1500, min_df=1, max_df=0.7) #minimum number of documents that should contain this feature\n",
    "x_traincv=cv.fit_transform(x_train)\n",
    "a=x_traincv.toarray()"
   ]
  },
  {
   "cell_type": "markdown",
   "metadata": {},
   "source": [
    "### Predictions\n",
    "I have used the multinomial Naive Bayes classifier as prediction algorithem.The multinomial Naive Bayes classifier is suitable for classification with discrete features (e.g., word counts for text classification etc). The multinomial distribution normally requires integer feature counts."
   ]
  },
  {
   "cell_type": "code",
   "execution_count": 32,
   "metadata": {},
   "outputs": [],
   "source": [
    "mnb = MultinomialNB()\n",
    "mnb.fit(x_traincv,y_train);\n",
    "x_testcv=cv.transform(x_test);\n",
    "x_testcv.toarray();\n",
    "predictions=mnb.predict(x_testcv)\n",
    "#print(predictions);\n",
    "\n",
    "from sklearn.neighbors import KNeighborsClassifier\n",
    "knn = KNeighborsClassifier(n_neighbors=3)\n",
    "knn.fit(x_traincv,y_train)\n",
    "predictions1 = knn.predict(x_testcv)\n",
    "                           \n"
   ]
  },
  {
   "cell_type": "markdown",
   "metadata": {},
   "source": [
    "### Accuracies\n",
    "I have used the multinomial Naive Bayes classifier as prediction algorithem.The multinomial Naive Bayes classifier is suitable for classification with discrete features (e.g., word counts for text classification etc). The multinomial distribution normally requires integer feature counts.But as we can see in the accuracy and the confucion matrix KNeighbors Classifier give the better results."
   ]
  },
  {
   "cell_type": "code",
   "execution_count": 29,
   "metadata": {},
   "outputs": [
    {
     "name": "stdout",
     "output_type": "stream",
     "text": [
      "Training Accuracy:  1.0\n"
     ]
    }
   ],
   "source": [
    "actual=np.array(y_test)\n",
    "print('Training Accuracy: ',mnb.score(x_traincv,y_train))"
   ]
  },
  {
   "cell_type": "code",
   "execution_count": 36,
   "metadata": {},
   "outputs": [
    {
     "name": "stdout",
     "output_type": "stream",
     "text": [
      "Testing Accuracy of multinomial naive bayes Classifie:  0.9552238805970149\n",
      "Testing Accuracy KNeighbors Classifier :  0.9850746268656716\n"
     ]
    }
   ],
   "source": [
    "# calculate accuracy of class predictions\n",
    "from sklearn import metrics\n",
    "acc = metrics.accuracy_score(actual, predictions)\n",
    "print('Testing Accuracy of multinomial naive bayes Classifie: ',acc)\n",
    "\n",
    "acc1 = metrics.accuracy_score(actual, predictions1)\n",
    "print('Testing Accuracy KNeighbors Classifier : ',acc1)"
   ]
  },
  {
   "cell_type": "markdown",
   "metadata": {},
   "source": [
    "### Confution matrix"
   ]
  },
  {
   "cell_type": "code",
   "execution_count": 11,
   "metadata": {
    "scrolled": false
   },
   "outputs": [
    {
     "name": "stdout",
     "output_type": "stream",
     "text": [
      "[[23  0]\n",
      " [ 3 41]]\n"
     ]
    }
   ],
   "source": [
    "print(metrics.confusion_matrix(actual, predictions)) #confusion matrix of naive bayes Classifie"
   ]
  },
  {
   "cell_type": "code",
   "execution_count": 38,
   "metadata": {},
   "outputs": [
    {
     "name": "stdout",
     "output_type": "stream",
     "text": [
      "[[23  0]\n",
      " [ 1 43]]\n"
     ]
    }
   ],
   "source": [
    "print(metrics.confusion_matrix(actual, predictions1)) #confusion matrix of  KNeighbors Classifier"
   ]
  },
  {
   "cell_type": "code",
   "execution_count": 39,
   "metadata": {},
   "outputs": [
    {
     "data": {
      "image/png": "[encoded data removed]",
      "text/plain": [
       "<Figure size 432x360 with 2 Axes>"
      ]
     },
     "metadata": {
      "needs_background": "light"
     },
     "output_type": "display_data"
    }
   ],
   "source": [
    "import matplotlib.pyplot as plt\n",
    "from sklearn import metrics\n",
    "import seaborn as sns\n",
    "conf_matrix =metrics.confusion_matrix(actual, predictions)\n",
    "fig, ax = plt.subplots(figsize=(6,5))\n",
    "sns.heatmap(conf_matrix, fmt=\"g\", cmap='viridis',xticklabels=[-1,1], yticklabels=[-1,1])\n",
    "plt.title('multinomial naive bayes')\n",
    "plt.ylabel('Actual')\n",
    "plt.xlabel('Predicted')\n",
    "plt.show()"
   ]
  },
  {
   "cell_type": "code",
   "execution_count": 40,
   "metadata": {},
   "outputs": [
    {
     "data": {
      "image/png": "[encoded data removed]",
      "text/plain": [
       "<Figure size 432x360 with 2 Axes>"
      ]
     },
     "metadata": {
      "needs_background": "light"
     },
     "output_type": "display_data"
    }
   ],
   "source": [
    "import matplotlib.pyplot as plt\n",
    "from sklearn import metrics\n",
    "import seaborn as sns\n",
    "conf_matrix =metrics.confusion_matrix(actual, predictions1)\n",
    "fig, ax = plt.subplots(figsize=(6,5))\n",
    "sns.heatmap(conf_matrix, annot=True, fmt='d',xticklabels=[-1,1], yticklabels=[-1,1])\n",
    "plt.title('KNeighbors Classifier')\n",
    "plt.ylabel('Actual')\n",
    "plt.xlabel('Predicted')\n",
    "plt.show()"
   ]
  },
  {
   "cell_type": "markdown",
   "metadata": {},
   "source": [
    "Confusion matrix \n",
    "[TN FP\n",
    " FN TP]"
   ]
  },
  {
   "cell_type": "markdown",
   "metadata": {},
   "source": [
    "### Classification report"
   ]
  },
  {
   "cell_type": "code",
   "execution_count": 21,
   "metadata": {},
   "outputs": [
    {
     "name": "stdout",
     "output_type": "stream",
     "text": [
      "             precision    recall  f1-score   support\n",
      "\n",
      "         +1       0.88      1.00      0.94        23\n",
      "         -1       1.00      0.93      0.96        44\n",
      "\n",
      "avg / total       0.96      0.96      0.96        67\n",
      "\n"
     ]
    }
   ],
   "source": [
    "target_names =[\"+1\", \"-1\"]\n",
    "print(classification_report(actual, predictions, target_names=target_names))"
   ]
  },
  {
   "cell_type": "code",
   "execution_count": 41,
   "metadata": {},
   "outputs": [
    {
     "name": "stdout",
     "output_type": "stream",
     "text": [
      "             precision    recall  f1-score   support\n",
      "\n",
      "         +1       0.96      1.00      0.98        23\n",
      "         -1       1.00      0.98      0.99        44\n",
      "\n",
      "avg / total       0.99      0.99      0.99        67\n",
      "\n"
     ]
    }
   ],
   "source": [
    "target_names =[\"+1\", \"-1\"]\n",
    "print(classification_report(actual, predictions1, target_names=target_names))\n"
   ]
  },
  {
   "cell_type": "markdown",
   "metadata": {},
   "source": [
    "### Testsetwithoutlabels.txt prediction"
   ]
  },
  {
   "cell_type": "code",
   "execution_count": 43,
   "metadata": {
    "scrolled": false
   },
   "outputs": [],
   "source": [
    "\n",
    "text_file = open(\"testsetwithoutlabels.txt\", \"r\")\n",
    "l = text_file.readlines()\n",
    "test=cv.transform(l)\n",
    "test.toarray()\n",
    "predict=mnb.predict(test)\n",
    "#print('%d %s' % predict[0],l[0])\n",
    "i=0\n",
    "while i < len(l):\n",
    "    #print (\"{0} {1}\".format(predict[i], l[i]) )\n",
    "    i+=1\n",
    "\n"
   ]
  }
 ],
 "metadata": {
  "kernelspec": {
   "display_name": "Python 3",
   "language": "python",
   "name": "python3"
  },
  "language_info": {
   "codemirror_mode": {
    "name": "ipython",
    "version": 3
   },
   "file_extension": ".py",
   "mimetype": "text/x-python",
   "name": "python",
   "nbconvert_exporter": "python",
   "pygments_lexer": "ipython3",
   "version": "3.7.0"
  }
 },
 "nbformat": 4,
 "nbformat_minor": 2
}
