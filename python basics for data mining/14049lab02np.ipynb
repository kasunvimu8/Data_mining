{
 "cells": [
  {
   "cell_type": "markdown",
   "metadata": {},
   "source": [
    "# 2 Numpy\n",
    "\n",
    "## 2.1 Creation"
   ]
  },
  {
   "cell_type": "code",
   "execution_count": 1,
   "metadata": {},
   "outputs": [
    {
     "data": {
      "text/plain": [
       "array([[0, 1, 2],\n",
       "       [3, 4, 5],\n",
       "       [6, 7, 8]])"
      ]
     },
     "execution_count": 1,
     "metadata": {},
     "output_type": "execute_result"
    }
   ],
   "source": [
    "import numpy as np # import numpy module as np\n",
    "\n",
    "matrix = np.array([np.arange(3), [i for i in range(3,6)], [6,7,8]])\n",
    "matrix"
   ]
  },
  {
   "cell_type": "markdown",
   "metadata": {},
   "source": [
    "## 2.2 Initialization"
   ]
  },
  {
   "cell_type": "code",
   "execution_count": 2,
   "metadata": {},
   "outputs": [
    {
     "data": {
      "text/plain": [
       "array([[[0., 0., 0., 0., 0., 0.],\n",
       "        [0., 0., 0., 0., 0., 0.],\n",
       "        [0., 0., 0., 0., 0., 0.],\n",
       "        [0., 0., 0., 0., 0., 0.],\n",
       "        [0., 0., 0., 0., 0., 0.]],\n",
       "\n",
       "       [[0., 0., 0., 0., 0., 0.],\n",
       "        [0., 0., 0., 0., 0., 0.],\n",
       "        [0., 0., 0., 0., 0., 0.],\n",
       "        [0., 0., 0., 0., 0., 0.],\n",
       "        [0., 0., 0., 0., 0., 0.]],\n",
       "\n",
       "       [[0., 0., 0., 0., 0., 0.],\n",
       "        [0., 0., 0., 0., 0., 0.],\n",
       "        [0., 0., 0., 0., 0., 0.],\n",
       "        [0., 0., 0., 0., 0., 0.],\n",
       "        [0., 0., 0., 0., 0., 0.]],\n",
       "\n",
       "       [[0., 0., 0., 0., 0., 0.],\n",
       "        [0., 0., 0., 0., 0., 0.],\n",
       "        [0., 0., 0., 0., 0., 0.],\n",
       "        [0., 0., 0., 0., 0., 0.],\n",
       "        [0., 0., 0., 0., 0., 0.]]])"
      ]
     },
     "execution_count": 2,
     "metadata": {},
     "output_type": "execute_result"
    }
   ],
   "source": [
    "np.zeros([4,5,6])"
   ]
  },
  {
   "cell_type": "code",
   "execution_count": 3,
   "metadata": {},
   "outputs": [
    {
     "data": {
      "text/plain": [
       "array([[1., 1., 1., 1.],\n",
       "       [1., 1., 1., 1.],\n",
       "       [1., 1., 1., 1.]])"
      ]
     },
     "execution_count": 3,
     "metadata": {},
     "output_type": "execute_result"
    }
   ],
   "source": [
    "np.ones([3,4], dtype=float)"
   ]
  },
  {
   "cell_type": "code",
   "execution_count": 4,
   "metadata": {},
   "outputs": [
    {
     "data": {
      "text/plain": [
       "array([[1, 2, 3],\n",
       "       [4, 5, 6],\n",
       "       [7, 8, 9]])"
      ]
     },
     "execution_count": 4,
     "metadata": {},
     "output_type": "execute_result"
    }
   ],
   "source": [
    "np.arange(1,10,1).reshape(3,3)"
   ]
  },
  {
   "cell_type": "code",
   "execution_count": 5,
   "metadata": {},
   "outputs": [
    {
     "data": {
      "text/plain": [
       "array([0.  , 0.25, 0.5 , 0.75, 1.  , 1.25, 1.5 , 1.75, 2.  ])"
      ]
     },
     "execution_count": 5,
     "metadata": {},
     "output_type": "execute_result"
    }
   ],
   "source": [
    "np.linspace(0,2,9)"
   ]
  },
  {
   "cell_type": "code",
   "execution_count": 6,
   "metadata": {},
   "outputs": [
    {
     "data": {
      "text/plain": [
       "array([[4, 4, 4],\n",
       "       [4, 4, 4],\n",
       "       [4, 4, 4]])"
      ]
     },
     "execution_count": 6,
     "metadata": {},
     "output_type": "execute_result"
    }
   ],
   "source": [
    "np.full([3,3], 4)"
   ]
  },
  {
   "cell_type": "code",
   "execution_count": 7,
   "metadata": {},
   "outputs": [
    {
     "data": {
      "text/plain": [
       "array([[1., 0., 0.],\n",
       "       [0., 1., 0.],\n",
       "       [0., 0., 1.]])"
      ]
     },
     "execution_count": 7,
     "metadata": {},
     "output_type": "execute_result"
    }
   ],
   "source": [
    "np.eye(3)"
   ]
  },
  {
   "cell_type": "markdown",
   "metadata": {},
   "source": [
    "## 2.3 Copying, Sorting, Slicing"
   ]
  },
  {
   "cell_type": "code",
   "execution_count": 8,
   "metadata": {},
   "outputs": [
    {
     "data": {
      "text/plain": [
       "array([[0, 1, 2],\n",
       "       [3, 4, 5],\n",
       "       [6, 7, 8]])"
      ]
     },
     "execution_count": 8,
     "metadata": {},
     "output_type": "execute_result"
    }
   ],
   "source": [
    "np.copy(matrix)"
   ]
  },
  {
   "cell_type": "code",
   "execution_count": 9,
   "metadata": {},
   "outputs": [
    {
     "data": {
      "text/plain": [
       "array([[0, 1, 2],\n",
       "       [3, 4, 5],\n",
       "       [6, 7, 8]])"
      ]
     },
     "execution_count": 9,
     "metadata": {},
     "output_type": "execute_result"
    }
   ],
   "source": [
    "matrix.copy()"
   ]
  },
  {
   "cell_type": "code",
   "execution_count": 10,
   "metadata": {},
   "outputs": [
    {
     "data": {
      "text/plain": [
       "array([[0, 1, 2],\n",
       "       [3, 4, 5],\n",
       "       [6, 7, 8]])"
      ]
     },
     "execution_count": 10,
     "metadata": {},
     "output_type": "execute_result"
    }
   ],
   "source": [
    "matrix.view()"
   ]
  },
  {
   "cell_type": "code",
   "execution_count": 11,
   "metadata": {},
   "outputs": [],
   "source": [
    "matrix.sort()"
   ]
  },
  {
   "cell_type": "code",
   "execution_count": 12,
   "metadata": {},
   "outputs": [],
   "source": [
    "matrix.sort(axis=1)"
   ]
  },
  {
   "cell_type": "code",
   "execution_count": 13,
   "metadata": {},
   "outputs": [
    {
     "data": {
      "text/plain": [
       "array([[0],\n",
       "       [3],\n",
       "       [6]])"
      ]
     },
     "execution_count": 13,
     "metadata": {},
     "output_type": "execute_result"
    }
   ],
   "source": [
    "matrix[0:,:1]"
   ]
  },
  {
   "cell_type": "code",
   "execution_count": 14,
   "metadata": {},
   "outputs": [
    {
     "data": {
      "text/plain": [
       "array([[1, 2],\n",
       "       [4, 5]])"
      ]
     },
     "execution_count": 14,
     "metadata": {},
     "output_type": "execute_result"
    }
   ],
   "source": [
    "matrix[:2, 1:]"
   ]
  },
  {
   "cell_type": "code",
   "execution_count": 15,
   "metadata": {},
   "outputs": [
    {
     "data": {
      "text/plain": [
       "array([[0, 1, 2],\n",
       "       [3, 4, 5]])"
      ]
     },
     "execution_count": 15,
     "metadata": {},
     "output_type": "execute_result"
    }
   ],
   "source": [
    "matrix[:2, :]"
   ]
  },
  {
   "cell_type": "code",
   "execution_count": 16,
   "metadata": {},
   "outputs": [
    {
     "data": {
      "text/plain": [
       "3"
      ]
     },
     "execution_count": 16,
     "metadata": {},
     "output_type": "execute_result"
    }
   ],
   "source": [
    "matrix[1,0]"
   ]
  },
  {
   "cell_type": "code",
   "execution_count": 17,
   "metadata": {},
   "outputs": [],
   "source": [
    "matrix[0] = 42"
   ]
  },
  {
   "cell_type": "code",
   "execution_count": 18,
   "metadata": {},
   "outputs": [
    {
     "data": {
      "text/plain": [
       "array([[3, 4, 5],\n",
       "       [6, 7, 8]])"
      ]
     },
     "execution_count": 18,
     "metadata": {},
     "output_type": "execute_result"
    }
   ],
   "source": [
    "matrix[1:3]"
   ]
  },
  {
   "cell_type": "code",
   "execution_count": 19,
   "metadata": {},
   "outputs": [],
   "source": [
    "# matrix[] this command gives a syntax error"
   ]
  },
  {
   "cell_type": "code",
   "execution_count": 20,
   "metadata": {},
   "outputs": [
    {
     "data": {
      "text/plain": [
       "array([[3, 4, 5],\n",
       "       [6, 7, 8]])"
      ]
     },
     "execution_count": 20,
     "metadata": {},
     "output_type": "execute_result"
    }
   ],
   "source": [
    "matrix[1:]"
   ]
  },
  {
   "cell_type": "code",
   "execution_count": 21,
   "metadata": {},
   "outputs": [
    {
     "data": {
      "text/plain": [
       "array([[3, 4, 5],\n",
       "       [6, 7, 8]])"
      ]
     },
     "execution_count": 21,
     "metadata": {},
     "output_type": "execute_result"
    }
   ],
   "source": [
    "matrix[1:100]"
   ]
  },
  {
   "cell_type": "code",
   "execution_count": 22,
   "metadata": {},
   "outputs": [
    {
     "data": {
      "text/plain": [
       "array([[42, 42, 42],\n",
       "       [ 3,  4,  5],\n",
       "       [ 6,  7,  8]])"
      ]
     },
     "execution_count": 22,
     "metadata": {},
     "output_type": "execute_result"
    }
   ],
   "source": [
    "matrix[:]"
   ]
  },
  {
   "cell_type": "code",
   "execution_count": 23,
   "metadata": {},
   "outputs": [
    {
     "data": {
      "text/plain": [
       "array([[3, 4],\n",
       "       [6, 7]])"
      ]
     },
     "execution_count": 23,
     "metadata": {},
     "output_type": "execute_result"
    }
   ],
   "source": [
    "matrix[1:,:2]"
   ]
  },
  {
   "cell_type": "code",
   "execution_count": 24,
   "metadata": {},
   "outputs": [
    {
     "data": {
      "text/plain": [
       "array([[42, 42],\n",
       "       [ 4,  5]])"
      ]
     },
     "execution_count": 24,
     "metadata": {},
     "output_type": "execute_result"
    }
   ],
   "source": [
    "matrix[:2, 1:]"
   ]
  },
  {
   "cell_type": "code",
   "execution_count": 25,
   "metadata": {},
   "outputs": [
    {
     "data": {
      "text/plain": [
       "array([42, 42, 42,  3,  4,  5,  6,  7,  8])"
      ]
     },
     "execution_count": 25,
     "metadata": {},
     "output_type": "execute_result"
    }
   ],
   "source": [
    "matrix.ravel() #Return a contiguous flattened array."
   ]
  },
  {
   "cell_type": "code",
   "execution_count": 26,
   "metadata": {},
   "outputs": [
    {
     "data": {
      "text/plain": [
       "array([42,  4,  7])"
      ]
     },
     "execution_count": 26,
     "metadata": {},
     "output_type": "execute_result"
    }
   ],
   "source": [
    "matrix[:,1].copy()"
   ]
  },
  {
   "cell_type": "code",
   "execution_count": 27,
   "metadata": {},
   "outputs": [
    {
     "data": {
      "text/plain": [
       "[3, 4, 5]"
      ]
     },
     "execution_count": 27,
     "metadata": {},
     "output_type": "execute_result"
    }
   ],
   "source": [
    "matrix[1].tolist()"
   ]
  },
  {
   "cell_type": "code",
   "execution_count": 28,
   "metadata": {},
   "outputs": [
    {
     "data": {
      "text/plain": [
       "array([42, 42, 42,  3,  4,  5,  6,  7,  8])"
      ]
     },
     "execution_count": 28,
     "metadata": {},
     "output_type": "execute_result"
    }
   ],
   "source": [
    "matrix.reshape(-1)"
   ]
  },
  {
   "cell_type": "markdown",
   "metadata": {},
   "source": [
    "## 2.4 Apply elements wise operations and functions of NumPy\n",
    "### 2.4.1 Try Out"
   ]
  },
  {
   "cell_type": "code",
   "execution_count": 29,
   "metadata": {},
   "outputs": [
    {
     "data": {
      "text/plain": [
       "array([[6.4807407 , 6.4807407 , 6.4807407 ],\n",
       "       [1.73205081, 2.        , 2.23606798],\n",
       "       [2.44948974, 2.64575131, 2.82842712]])"
      ]
     },
     "execution_count": 29,
     "metadata": {},
     "output_type": "execute_result"
    }
   ],
   "source": [
    "np.sqrt(matrix)"
   ]
  },
  {
   "cell_type": "code",
   "execution_count": 30,
   "metadata": {},
   "outputs": [
    {
     "data": {
      "text/plain": [
       "array([[1.73927494e+18, 1.73927494e+18, 1.73927494e+18],\n",
       "       [2.00855369e+01, 5.45981500e+01, 1.48413159e+02],\n",
       "       [4.03428793e+02, 1.09663316e+03, 2.98095799e+03]])"
      ]
     },
     "execution_count": 30,
     "metadata": {},
     "output_type": "execute_result"
    }
   ],
   "source": [
    "np.exp(matrix)"
   ]
  },
  {
   "cell_type": "code",
   "execution_count": 31,
   "metadata": {},
   "outputs": [
    {
     "data": {
      "text/plain": [
       "-0.01897005020707411"
      ]
     },
     "execution_count": 31,
     "metadata": {},
     "output_type": "execute_result"
    }
   ],
   "source": [
    "np.min(np.maximum(np.random.randn(6), np.random.randn(6)))"
   ]
  },
  {
   "cell_type": "code",
   "execution_count": 32,
   "metadata": {},
   "outputs": [
    {
     "data": {
      "text/plain": [
       "17.666666666666668"
      ]
     },
     "execution_count": 32,
     "metadata": {},
     "output_type": "execute_result"
    }
   ],
   "source": [
    "np.mean(matrix)"
   ]
  },
  {
   "cell_type": "code",
   "execution_count": 33,
   "metadata": {},
   "outputs": [
    {
     "data": {
      "text/plain": [
       "array([17.        , 17.66666667, 18.33333333])"
      ]
     },
     "execution_count": 33,
     "metadata": {},
     "output_type": "execute_result"
    }
   ],
   "source": [
    "np.mean(matrix , axis=0)"
   ]
  },
  {
   "cell_type": "code",
   "execution_count": 34,
   "metadata": {},
   "outputs": [
    {
     "data": {
      "text/plain": [
       "159"
      ]
     },
     "execution_count": 34,
     "metadata": {},
     "output_type": "execute_result"
    }
   ],
   "source": [
    "np.sum(matrix)"
   ]
  },
  {
   "cell_type": "code",
   "execution_count": 35,
   "metadata": {},
   "outputs": [
    {
     "data": {
      "text/plain": [
       "array([[-43, -43, -43],\n",
       "       [ -4,  -5,  -6],\n",
       "       [ -7,  -8,  -9]], dtype=int32)"
      ]
     },
     "execution_count": 35,
     "metadata": {},
     "output_type": "execute_result"
    }
   ],
   "source": [
    "np.invert(matrix)"
   ]
  },
  {
   "cell_type": "code",
   "execution_count": 36,
   "metadata": {},
   "outputs": [
    {
     "data": {
      "text/plain": [
       "0"
      ]
     },
     "execution_count": 36,
     "metadata": {},
     "output_type": "execute_result"
    }
   ],
   "source": [
    "np.random.randint(0, 1)"
   ]
  },
  {
   "cell_type": "code",
   "execution_count": 37,
   "metadata": {},
   "outputs": [
    {
     "data": {
      "text/plain": [
       "array([-1,  0,  1,  2,  3,  2,  1,  2,  3,  2,  3,  2,  1,  0, -1,  0, -1,\n",
       "       -2, -3, -2, -1,  0, -1, -2, -1, -2, -1,  0,  1,  2,  1,  0, -1,  0,\n",
       "        1,  0,  1,  0, -1,  0,  1,  0,  1,  2,  3,  4,  5,  6,  5,  6,  5,\n",
       "        6,  5,  6,  7,  8,  7,  8,  9,  8,  7,  8,  9, 10, 11, 12, 13, 12,\n",
       "       13, 12, 11, 12, 13, 14, 15, 16, 15, 16, 15, 14, 15, 16, 15, 14, 15,\n",
       "       14, 15, 14, 15, 16, 17, 18, 19, 20, 21, 20, 21, 22, 23, 22, 23, 22,\n",
       "       23, 24, 23, 22, 23, 24, 23, 24, 23, 22, 21, 20, 21, 22, 23, 22, 21,\n",
       "       22, 23, 24, 25, 24, 23, 22, 23, 24, 25, 26, 27, 26, 27, 28, 29, 30,\n",
       "       31, 30, 29, 30, 31, 32, 31, 30, 29, 28, 27, 26, 27, 26, 25, 26, 25,\n",
       "       24, 23, 24, 23, 24, 25, 24, 23, 24, 25, 24, 25, 26, 25, 24, 25, 24,\n",
       "       25, 26, 27, 28, 29, 28, 29, 30, 29, 30, 31, 32, 31, 30, 29, 30, 29,\n",
       "       28, 29, 28, 27, 26, 27, 28, 29, 28, 27, 28, 29, 28, 27, 28, 29, 30,\n",
       "       29, 28, 27, 28, 27, 26, 25, 26, 25, 24, 23, 22, 23, 24, 25, 26, 25,\n",
       "       26, 27, 26, 25, 26, 25, 26, 27, 28, 29, 30, 29, 30, 31, 30, 29, 28,\n",
       "       29, 28, 27, 28, 29, 28, 29, 30, 31, 32, 33, 32, 31, 32, 33, 32, 33,\n",
       "       34, 33, 34, 33, 34, 33, 34, 35, 34, 35, 36, 35, 34, 35, 36, 35, 36,\n",
       "       37, 36, 35, 36, 35, 36, 37, 38, 39, 40, 39, 40, 41, 40, 41, 42, 43,\n",
       "       42, 43, 44, 45, 44, 45, 46, 45, 44, 43, 44, 43, 42, 43, 42, 41, 40,\n",
       "       41, 42, 41, 40, 41, 40, 41, 40, 41, 42, 43, 42, 43, 44, 43, 42, 43,\n",
       "       42, 41, 40, 39, 38, 39, 38, 39, 38, 37, 36, 35, 36, 37, 38, 39, 38,\n",
       "       37, 38, 37, 36, 37, 38, 37, 38, 39, 40, 41, 40, 41, 42, 43, 44, 45,\n",
       "       46, 45, 44, 45, 46, 47, 46, 47, 48, 47, 48, 49, 50, 49, 48, 49, 50,\n",
       "       49, 50, 51, 52, 51, 50, 49, 48, 49, 48, 47, 48, 49, 48, 49, 48, 49,\n",
       "       48, 49, 48, 49, 48, 49, 50, 51, 52, 53, 54, 55, 54, 53, 54, 55, 56,\n",
       "       55, 54, 55, 54, 53, 54, 55, 56, 57, 58, 59, 58, 57, 56, 55, 54, 53,\n",
       "       52, 53, 52, 53, 54, 55, 56, 55, 54, 53, 52, 53, 54, 55, 56, 55, 56,\n",
       "       55, 54, 53, 54, 53, 54, 53, 52, 51, 52, 53, 52, 53, 54, 53, 52, 51,\n",
       "       52, 51, 50, 49, 48, 47, 46, 47, 48, 47, 46, 47, 48, 47, 48, 49, 50,\n",
       "       49, 50, 51, 50, 51, 52, 53, 52, 53, 54, 53, 52, 51, 50, 51, 50, 51,\n",
       "       52, 51, 52, 51, 52, 53, 52], dtype=int32)"
      ]
     },
     "execution_count": 37,
     "metadata": {},
     "output_type": "execute_result"
    }
   ],
   "source": [
    "from numpy.random import randint\n",
    "\n",
    "class RandomWalk1D:\n",
    "    def __init__(self, max_steps):\n",
    "        self.max_steps = max_steps\n",
    "\n",
    "    def walk(self):\n",
    "        random_numbers = randint(0, 2, size=self.max_steps)\n",
    "        steps = np.where(random_numbers == 0, -1, +1)\n",
    "        path = np.cumsum(steps)\n",
    "        return path\n",
    "\n",
    "random_walker1d = RandomWalk1D(500)\n",
    "random_walker1d.walk()"
   ]
  },
  {
   "cell_type": "code",
   "execution_count": 51,
   "metadata": {},
   "outputs": [
    {
     "data": {
      "text/plain": [
       "array([[  0,   0],\n",
       "       [  1,  -1],\n",
       "       [  0,  -2],\n",
       "       [  1,  -1],\n",
       "       [  2,  -2],\n",
       "       [  1,  -1],\n",
       "       [  2,   0],\n",
       "       [  1,  -1],\n",
       "       [  0,   0],\n",
       "       [  1,   1],\n",
       "       [  2,   0],\n",
       "       [  1,  -1],\n",
       "       [  0,   0],\n",
       "       [ -1,   1],\n",
       "       [ -2,   2],\n",
       "       [ -1,   3],\n",
       "       [ -2,   2],\n",
       "       [ -3,   3],\n",
       "       [ -4,   2],\n",
       "       [ -5,   3],\n",
       "       [ -4,   2],\n",
       "       [ -5,   3],\n",
       "       [ -6,   2],\n",
       "       [ -7,   3],\n",
       "       [ -6,   4],\n",
       "       [ -7,   5],\n",
       "       [ -6,   4],\n",
       "       [ -5,   5],\n",
       "       [ -6,   6],\n",
       "       [ -7,   5],\n",
       "       [ -6,   4],\n",
       "       [ -7,   5],\n",
       "       [ -6,   6],\n",
       "       [ -5,   5],\n",
       "       [ -6,   6],\n",
       "       [ -7,   7],\n",
       "       [ -6,   8],\n",
       "       [ -7,   7],\n",
       "       [ -8,   6],\n",
       "       [ -7,   7],\n",
       "       [ -8,   8],\n",
       "       [ -9,   7],\n",
       "       [-10,   8],\n",
       "       [ -9,   9],\n",
       "       [-10,   8],\n",
       "       [-11,   9],\n",
       "       [-10,   8],\n",
       "       [ -9,   7],\n",
       "       [-10,   6],\n",
       "       [ -9,   7],\n",
       "       [-10,   8],\n",
       "       [-11,   7],\n",
       "       [-10,   8],\n",
       "       [-11,   7],\n",
       "       [-10,   8],\n",
       "       [-11,   7],\n",
       "       [-10,   6],\n",
       "       [-11,   7],\n",
       "       [-12,   8],\n",
       "       [-11,   9],\n",
       "       [-12,   8],\n",
       "       [-11,   9],\n",
       "       [-10,  10],\n",
       "       [ -9,  11],\n",
       "       [-10,  12],\n",
       "       [ -9,  11],\n",
       "       [-10,  12],\n",
       "       [-11,  11],\n",
       "       [-12,  10],\n",
       "       [-13,  11],\n",
       "       [-12,  12],\n",
       "       [-13,  11],\n",
       "       [-12,  10],\n",
       "       [-13,   9],\n",
       "       [-12,   8],\n",
       "       [-11,   9],\n",
       "       [-12,  10],\n",
       "       [-13,  11],\n",
       "       [-14,  10],\n",
       "       [-13,   9],\n",
       "       [-12,  10],\n",
       "       [-11,  11],\n",
       "       [-10,  10],\n",
       "       [-11,   9],\n",
       "       [-12,  10],\n",
       "       [-11,  11],\n",
       "       [-12,  10],\n",
       "       [-13,   9],\n",
       "       [-14,  10],\n",
       "       [-15,   9],\n",
       "       [-16,  10],\n",
       "       [-17,  11],\n",
       "       [-16,  12],\n",
       "       [-15,  11],\n",
       "       [-14,  12],\n",
       "       [-13,  11],\n",
       "       [-12,  10],\n",
       "       [-11,  11],\n",
       "       [-12,  10],\n",
       "       [-13,  11],\n",
       "       [-14,  10],\n",
       "       [-13,  11],\n",
       "       [-14,  10],\n",
       "       [-15,   9],\n",
       "       [-14,   8],\n",
       "       [-13,   9],\n",
       "       [-14,   8],\n",
       "       [-15,   9],\n",
       "       [-16,   8],\n",
       "       [-15,   7],\n",
       "       [-14,   6],\n",
       "       [-13,   5],\n",
       "       [-12,   6],\n",
       "       [-11,   5],\n",
       "       [-12,   6],\n",
       "       [-13,   7],\n",
       "       [-14,   8],\n",
       "       [-13,   7],\n",
       "       [-12,   8],\n",
       "       [-11,   7],\n",
       "       [-12,   8],\n",
       "       [-11,   7],\n",
       "       [-12,   6],\n",
       "       [-11,   5],\n",
       "       [-10,   6],\n",
       "       [-11,   5],\n",
       "       [-12,   6],\n",
       "       [-13,   7],\n",
       "       [-14,   8],\n",
       "       [-13,   9],\n",
       "       [-12,  10],\n",
       "       [-11,   9],\n",
       "       [-12,  10],\n",
       "       [-13,  11],\n",
       "       [-12,  10],\n",
       "       [-13,  11],\n",
       "       [-14,  12],\n",
       "       [-13,  13],\n",
       "       [-12,  12],\n",
       "       [-11,  13],\n",
       "       [-12,  12],\n",
       "       [-11,  11],\n",
       "       [-10,  10],\n",
       "       [ -9,   9],\n",
       "       [ -8,  10],\n",
       "       [ -7,   9],\n",
       "       [ -8,   8],\n",
       "       [ -7,   7],\n",
       "       [ -6,   8],\n",
       "       [ -7,   9],\n",
       "       [ -8,   8],\n",
       "       [ -7,   7],\n",
       "       [ -6,   8],\n",
       "       [ -5,   7],\n",
       "       [ -6,   8],\n",
       "       [ -5,   7],\n",
       "       [ -6,   6],\n",
       "       [ -7,   5],\n",
       "       [ -6,   4],\n",
       "       [ -7,   3],\n",
       "       [ -6,   2],\n",
       "       [ -7,   1],\n",
       "       [ -6,   2],\n",
       "       [ -7,   3],\n",
       "       [ -8,   4],\n",
       "       [ -9,   5],\n",
       "       [ -8,   4],\n",
       "       [ -7,   3],\n",
       "       [ -6,   2],\n",
       "       [ -5,   3],\n",
       "       [ -4,   4],\n",
       "       [ -5,   5],\n",
       "       [ -4,   4],\n",
       "       [ -5,   3],\n",
       "       [ -6,   4],\n",
       "       [ -7,   3],\n",
       "       [ -8,   4],\n",
       "       [ -9,   3],\n",
       "       [-10,   2],\n",
       "       [ -9,   3],\n",
       "       [-10,   2],\n",
       "       [-11,   1],\n",
       "       [-10,   0],\n",
       "       [-11,   1],\n",
       "       [-12,   0],\n",
       "       [-13,  -1],\n",
       "       [-14,   0],\n",
       "       [-13,   1],\n",
       "       [-12,   0],\n",
       "       [-13,   1],\n",
       "       [-14,   0],\n",
       "       [-13,   1],\n",
       "       [-12,   2],\n",
       "       [-11,   1],\n",
       "       [-10,   0],\n",
       "       [-11,   1],\n",
       "       [-10,   2],\n",
       "       [-11,   1],\n",
       "       [-12,   2],\n",
       "       [-11,   3],\n",
       "       [-12,   2],\n",
       "       [-11,   1],\n",
       "       [-12,   2],\n",
       "       [-13,   1],\n",
       "       [-14,   2],\n",
       "       [-13,   1],\n",
       "       [-12,   0],\n",
       "       [-11,   1],\n",
       "       [-10,   0],\n",
       "       [ -9,   1],\n",
       "       [ -8,   2],\n",
       "       [ -9,   3],\n",
       "       [-10,   4],\n",
       "       [ -9,   5],\n",
       "       [-10,   4],\n",
       "       [ -9,   5],\n",
       "       [ -8,   6],\n",
       "       [ -7,   7],\n",
       "       [ -6,   6],\n",
       "       [ -7,   5],\n",
       "       [ -8,   4],\n",
       "       [ -9,   3],\n",
       "       [-10,   2],\n",
       "       [ -9,   3],\n",
       "       [ -8,   2],\n",
       "       [ -9,   1],\n",
       "       [-10,   2],\n",
       "       [-11,   3],\n",
       "       [-12,   4],\n",
       "       [-11,   3],\n",
       "       [-12,   4],\n",
       "       [-11,   5],\n",
       "       [-10,   6],\n",
       "       [ -9,   5],\n",
       "       [ -8,   4],\n",
       "       [ -7,   3],\n",
       "       [ -8,   4],\n",
       "       [ -9,   5],\n",
       "       [ -8,   4],\n",
       "       [ -7,   5],\n",
       "       [ -6,   4],\n",
       "       [ -5,   3],\n",
       "       [ -4,   4],\n",
       "       [ -5,   3],\n",
       "       [ -6,   4],\n",
       "       [ -5,   5],\n",
       "       [ -6,   4],\n",
       "       [ -7,   5],\n",
       "       [ -8,   4],\n",
       "       [ -9,   5],\n",
       "       [ -8,   4],\n",
       "       [ -7,   5],\n",
       "       [ -8,   4],\n",
       "       [ -9,   5],\n",
       "       [-10,   4],\n",
       "       [-11,   5],\n",
       "       [-12,   6],\n",
       "       [-13,   7],\n",
       "       [-12,   8],\n",
       "       [-11,   9],\n",
       "       [-10,   8],\n",
       "       [ -9,   7],\n",
       "       [ -8,   6],\n",
       "       [ -7,   5],\n",
       "       [ -8,   6],\n",
       "       [ -7,   7],\n",
       "       [ -8,   8],\n",
       "       [ -7,   7],\n",
       "       [ -6,   8],\n",
       "       [ -7,   9],\n",
       "       [ -8,   8],\n",
       "       [ -9,   9],\n",
       "       [-10,   8],\n",
       "       [ -9,   9],\n",
       "       [-10,   8],\n",
       "       [ -9,   7],\n",
       "       [ -8,   8],\n",
       "       [ -9,   9],\n",
       "       [ -8,   8],\n",
       "       [ -9,   7],\n",
       "       [ -8,   8],\n",
       "       [ -9,   9],\n",
       "       [-10,  10],\n",
       "       [ -9,  11],\n",
       "       [ -8,  12],\n",
       "       [ -7,  13],\n",
       "       [ -6,  14],\n",
       "       [ -7,  15],\n",
       "       [ -6,  16],\n",
       "       [ -5,  17],\n",
       "       [ -4,  18],\n",
       "       [ -5,  19],\n",
       "       [ -4,  20],\n",
       "       [ -5,  19],\n",
       "       [ -6,  18],\n",
       "       [ -5,  19],\n",
       "       [ -6,  18],\n",
       "       [ -5,  17],\n",
       "       [ -6,  16],\n",
       "       [ -7,  17],\n",
       "       [ -8,  18],\n",
       "       [ -9,  19],\n",
       "       [ -8,  20],\n",
       "       [ -7,  19],\n",
       "       [ -8,  20],\n",
       "       [ -9,  19],\n",
       "       [ -8,  20],\n",
       "       [ -9,  19],\n",
       "       [-10,  18],\n",
       "       [ -9,  17],\n",
       "       [ -8,  18],\n",
       "       [ -7,  17],\n",
       "       [ -8,  16],\n",
       "       [ -7,  15],\n",
       "       [ -6,  16],\n",
       "       [ -7,  15],\n",
       "       [ -8,  14],\n",
       "       [ -7,  13],\n",
       "       [ -6,  14],\n",
       "       [ -7,  13],\n",
       "       [ -8,  12],\n",
       "       [ -7,  11],\n",
       "       [ -8,  10],\n",
       "       [ -7,   9],\n",
       "       [ -6,   8],\n",
       "       [ -5,   7],\n",
       "       [ -4,   6],\n",
       "       [ -3,   5],\n",
       "       [ -4,   6],\n",
       "       [ -5,   5],\n",
       "       [ -6,   4],\n",
       "       [ -5,   3],\n",
       "       [ -6,   2],\n",
       "       [ -5,   3],\n",
       "       [ -4,   2],\n",
       "       [ -5,   1],\n",
       "       [ -6,   0],\n",
       "       [ -7,  -1],\n",
       "       [ -8,  -2],\n",
       "       [ -7,  -3],\n",
       "       [ -8,  -2],\n",
       "       [ -9,  -1],\n",
       "       [ -8,   0],\n",
       "       [ -7,  -1],\n",
       "       [ -8,   0],\n",
       "       [ -7,   1],\n",
       "       [ -6,   0],\n",
       "       [ -7,   1],\n",
       "       [ -6,   0],\n",
       "       [ -5,  -1],\n",
       "       [ -4,   0],\n",
       "       [ -5,  -1],\n",
       "       [ -4,   0],\n",
       "       [ -3,   1],\n",
       "       [ -2,   2],\n",
       "       [ -3,   3],\n",
       "       [ -4,   4],\n",
       "       [ -3,   3],\n",
       "       [ -2,   2],\n",
       "       [ -3,   3],\n",
       "       [ -2,   4],\n",
       "       [ -3,   3],\n",
       "       [ -2,   2],\n",
       "       [ -3,   3],\n",
       "       [ -2,   4],\n",
       "       [ -1,   3],\n",
       "       [  0,   4],\n",
       "       [  1,   3],\n",
       "       [  2,   2],\n",
       "       [  3,   3],\n",
       "       [  2,   2],\n",
       "       [  3,   3],\n",
       "       [  2,   4],\n",
       "       [  3,   5],\n",
       "       [  4,   6],\n",
       "       [  5,   7],\n",
       "       [  4,   6],\n",
       "       [  3,   5],\n",
       "       [  2,   6],\n",
       "       [  1,   7],\n",
       "       [  2,   6],\n",
       "       [  3,   5],\n",
       "       [  2,   4],\n",
       "       [  3,   5],\n",
       "       [  2,   6],\n",
       "       [  3,   5],\n",
       "       [  2,   6],\n",
       "       [  3,   7],\n",
       "       [  4,   8],\n",
       "       [  5,   9],\n",
       "       [  6,  10],\n",
       "       [  5,  11],\n",
       "       [  4,  12],\n",
       "       [  3,  13],\n",
       "       [  4,  14],\n",
       "       [  5,  13],\n",
       "       [  4,  12],\n",
       "       [  3,  13],\n",
       "       [  4,  12],\n",
       "       [  5,  13],\n",
       "       [  4,  12],\n",
       "       [  3,  11],\n",
       "       [  4,  12],\n",
       "       [  3,  13],\n",
       "       [  4,  12],\n",
       "       [  5,  13],\n",
       "       [  4,  14],\n",
       "       [  5,  13],\n",
       "       [  4,  14],\n",
       "       [  3,  15],\n",
       "       [  2,  14],\n",
       "       [  3,  15],\n",
       "       [  2,  16],\n",
       "       [  1,  17],\n",
       "       [  0,  18],\n",
       "       [ -1,  17],\n",
       "       [ -2,  16],\n",
       "       [ -3,  17],\n",
       "       [ -4,  16],\n",
       "       [ -5,  15],\n",
       "       [ -6,  14],\n",
       "       [ -7,  13],\n",
       "       [ -6,  12],\n",
       "       [ -5,  11],\n",
       "       [ -6,  10],\n",
       "       [ -7,  11],\n",
       "       [ -8,  10],\n",
       "       [ -9,  11],\n",
       "       [ -8,  12],\n",
       "       [ -9,  13],\n",
       "       [-10,  14],\n",
       "       [-11,  13],\n",
       "       [-10,  12],\n",
       "       [ -9,  11],\n",
       "       [-10,  12],\n",
       "       [ -9,  13],\n",
       "       [-10,  14],\n",
       "       [-11,  15],\n",
       "       [-12,  14],\n",
       "       [-13,  13],\n",
       "       [-14,  12],\n",
       "       [-13,  11],\n",
       "       [-14,  10],\n",
       "       [-13,  11],\n",
       "       [-12,  10],\n",
       "       [-13,   9],\n",
       "       [-14,   8],\n",
       "       [-15,   7],\n",
       "       [-14,   8],\n",
       "       [-15,   9],\n",
       "       [-16,  10],\n",
       "       [-17,   9],\n",
       "       [-18,  10],\n",
       "       [-17,   9],\n",
       "       [-16,  10],\n",
       "       [-15,  11],\n",
       "       [-16,  12],\n",
       "       [-17,  11],\n",
       "       [-16,  10],\n",
       "       [-15,   9],\n",
       "       [-14,  10],\n",
       "       [-15,  11],\n",
       "       [-14,  12],\n",
       "       [-13,  13],\n",
       "       [-12,  14],\n",
       "       [-11,  13],\n",
       "       [-12,  14],\n",
       "       [-11,  13],\n",
       "       [-10,  14],\n",
       "       [-11,  13],\n",
       "       [-12,  12],\n",
       "       [-13,  13],\n",
       "       [-12,  14],\n",
       "       [-11,  13],\n",
       "       [-12,  14],\n",
       "       [-11,  13],\n",
       "       [-10,  12],\n",
       "       [ -9,  11],\n",
       "       [-10,  12],\n",
       "       [-11,  13],\n",
       "       [-10,  12],\n",
       "       [ -9,  13],\n",
       "       [ -8,  14],\n",
       "       [ -7,  15],\n",
       "       [ -8,  14],\n",
       "       [ -9,  15],\n",
       "       [ -8,  16],\n",
       "       [ -7,  17],\n",
       "       [ -6,  18],\n",
       "       [ -7,  19],\n",
       "       [ -8,  20],\n",
       "       [ -7,  19],\n",
       "       [ -8,  18],\n",
       "       [ -7,  19],\n",
       "       [ -6,  18],\n",
       "       [ -7,  19],\n",
       "       [ -6,  18],\n",
       "       [ -7,  19],\n",
       "       [ -8,  18],\n",
       "       [ -9,  17]])"
      ]
     },
     "execution_count": 51,
     "metadata": {},
     "output_type": "execute_result"
    }
   ],
   "source": [
    "class RandomWalk:\n",
    "    def __init__(self, max_steps):\n",
    "        self.max_steps = max_steps\n",
    "\n",
    "    def walk(self):\n",
    "        x = [0]\n",
    "        y = [0]\n",
    "\n",
    "        for j in range(self.max_steps - 1):\n",
    "            step_x = randint(0,2)\n",
    "            if step_x == 1:\n",
    "                x.append(x[j] + 1)\n",
    "            else:\n",
    "                x.append(x[j] - 1)\n",
    "    \n",
    "            step_y = randint(0,2)\n",
    "            if step_y == 1:\n",
    "                y.append(y[j] + 1)\n",
    "            else:\n",
    "                y.append(y[j] - 1)\n",
    "                \n",
    "        return np.array(list(zip(x, y)))\n",
    "\n",
    "random_walker = RandomWalk(500)\n",
    "random_walker.walk()"
   ]
  }
 ],
 "metadata": {
  "kernelspec": {
   "display_name": "Python 3",
   "language": "python",
   "name": "python3"
  },
  "language_info": {
   "codemirror_mode": {
    "name": "ipython",
    "version": 3
   },
   "file_extension": ".py",
   "mimetype": "text/x-python",
   "name": "python",
   "nbconvert_exporter": "python",
   "pygments_lexer": "ipython3",
   "version": "3.7.0"
  }
 },
 "nbformat": 4,
 "nbformat_minor": 2
}
