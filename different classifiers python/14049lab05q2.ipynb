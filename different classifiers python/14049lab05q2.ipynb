{
 "cells": [
  {
   "cell_type": "markdown",
   "metadata": {},
   "source": [
    "### 9 ) "
   ]
  },
  {
   "cell_type": "code",
   "execution_count": 6,
   "metadata": {},
   "outputs": [],
   "source": [
    "import pandas\n",
    "from sklearn import tree\n",
    "from sklearn.model_selection import train_test_split\n",
    "from sklearn.metrics import accuracy_score\n",
    "\n",
    "filename = 'breaset-cancer.csv'\n",
    "data = pandas.read_csv(filename, encoding = \"ISO-8859-1\")\n",
    "#print(data.shape) #make sure the whole data is being read\n",
    "data = data.dropna()  # records with missing values are dropped here\n",
    "# print(data.shape) # data without missing values\n",
    "# print(data)"
   ]
  },
  {
   "cell_type": "code",
   "execution_count": 7,
   "metadata": {},
   "outputs": [],
   "source": [
    "data.drop(['COUNTRY'], axis=1, inplace=True)\n",
    "\n",
    "# BREASTCANCERPER100TH conversion\n",
    "data.BREASTCANCERPER100TH.iloc[0:] [data.BREASTCANCERPER100TH.iloc[0:]<20 ] = 0\n",
    "data.BREASTCANCERPER100TH.iloc[0:] [data.BREASTCANCERPER100TH.iloc[0:]>=20 ] = 1\n",
    "\n",
    "# INCOMEPERPERSON conversion\n",
    "data.INCOMEPERPERSON.iloc[0:] [data.INCOMEPERPERSON.iloc[0:]<2000 ] = 0\n",
    "data.INCOMEPERPERSON.iloc[0:] [data.INCOMEPERPERSON.iloc[0:]>=2000 ] = 1\n",
    "\n",
    "# ALCCONSUMPTION conversion\n",
    "data.ALCCONSUMPTION.iloc[0:] [data.ALCCONSUMPTION.iloc[0:]<5 ] = 0\n",
    "data.ALCCONSUMPTION.iloc[0:] [data.ALCCONSUMPTION.iloc[0:]>=5 ] = 1\n",
    "\n",
    "# ARMEDFORCESRATE conversion\n",
    "data.ARMEDFORCESRATE.iloc[0:] [data.ARMEDFORCESRATE.iloc[0:]<0.8 ] = 0\n",
    "data.ARMEDFORCESRATE.iloc[0:] [data.ARMEDFORCESRATE.iloc[0:]>=0.8 ] = 1\n",
    "\n",
    "# CO2EMISSIONS conversion\n",
    "data.CO2EMISSIONS.iloc[0:] [data.CO2EMISSIONS.iloc[0:]<1.000000e+09 ] = 0\n",
    "data.CO2EMISSIONS.iloc[0:] [data.CO2EMISSIONS.iloc[0:]>=1.000000e+09 ] = 1\n",
    "\n",
    "# FEMALEEMPLOYRATE conversion\n",
    "data.FEMALEEMPLOYRATE.iloc[0:] [data.FEMALEEMPLOYRATE.iloc[0:]<30 ] = 0\n",
    "data.FEMALEEMPLOYRATE.iloc[0:] [data.FEMALEEMPLOYRATE.iloc[0:]>=30 ] = 1\n",
    "\n",
    "# HIVRATE conversion\n",
    "data.HIVRATE.iloc[0:] [data.HIVRATE.iloc[0:]<0.5 ] = 0\n",
    "data.HIVRATE.iloc[0:] [data.HIVRATE.iloc[0:]>=0.5 ] = 1\n",
    "\n",
    "# INTERNETUSERATE conversion\n",
    "data.INTERNETUSERATE.iloc[0:] [data.INTERNETUSERATE.iloc[0:]<40 ] = 0\n",
    "data.INTERNETUSERATE.iloc[0:] [data.INTERNETUSERATE.iloc[0:]>=40 ] = 1\n",
    "\n",
    "# LIFEEXPECTANCY conversion\n",
    "data.LIFEEXPECTANCY.iloc[0:] [data.LIFEEXPECTANCY.iloc[0:]<70 ] = 0\n",
    "data.LIFEEXPECTANCY.iloc[0:] [data.LIFEEXPECTANCY.iloc[0:]>=70 ] = 1\n",
    "\n",
    "# OILPERPERSON conversion\n",
    "data.OILPERPERSON.iloc[0:] [data.OILPERPERSON.iloc[0:]<1 ] = 0\n",
    "data.OILPERPERSON.iloc[0:] [data.OILPERPERSON.iloc[0:]>=1 ] = 1\n",
    "\n",
    "# POLITYSCORE conversion\n",
    "data.POLITYSCORE.iloc[0:] [data.POLITYSCORE.iloc[0:]<=0 ] = 0\n",
    "data.POLITYSCORE.iloc[0:] [data.POLITYSCORE.iloc[0:]>0 ] = 1\n",
    "\n",
    "# RELECTRICPERPERSON conversion\n",
    "data.RELECTRICPERPERSON.iloc[0:] [data.RELECTRICPERPERSON.iloc[0:]<500 ] = 0\n",
    "data.RELECTRICPERPERSON.iloc[0:] [data.RELECTRICPERPERSON.iloc[0:]>=500 ] = 1\n",
    "\n",
    "# SUICIDEPER100TH conversion\n",
    "data.SUICIDEPER100TH.iloc[0:] [data.SUICIDEPER100TH.iloc[0:]<7 ] = 0\n",
    "data.SUICIDEPER100TH.iloc[0:] [data.SUICIDEPER100TH.iloc[0:]>=7 ] = 1\n",
    "\n",
    "# EMPLOYRATE conversion\n",
    "data.EMPLOYRATE.iloc[0:] [data.EMPLOYRATE.iloc[0:]<50 ] = 0\n",
    "data.EMPLOYRATE.iloc[0:] [data.EMPLOYRATE.iloc[0:]>=50 ] = 1\n",
    "\n",
    "# urbanrate conversion\n",
    "data.urbanrate.iloc[0:] [data.urbanrate.iloc[0:]<50 ] = 0\n",
    "data.urbanrate.iloc[0:] [data.urbanrate.iloc[0:]>=50 ] = 1"
   ]
  },
  {
   "cell_type": "code",
   "execution_count": 8,
   "metadata": {},
   "outputs": [
    {
     "name": "stdout",
     "output_type": "stream",
     "text": [
      "Test Accuracy:  1.0\n"
     ]
    }
   ],
   "source": [
    "Y = data.BREASTCANCERPER100TH\n",
    "data.drop(['BREASTCANCERPER100TH'], axis=1, inplace=True)\n",
    "X = data\n",
    "\n",
    "clf = tree.DecisionTreeClassifier()\n",
    "\n",
    "X_train , X_test , Y_train , Y_test = train_test_split(X, Y, test_size =0.333,random_state =0)\n",
    "clf.fit(X_train ,Y_train) # clf is a classifier.\n",
    "Y_pred = clf.fit(X_train , Y_train ).predict(X_test)\n",
    "print('Test Accuracy: ',accuracy_score(Y_test , Y_pred)) # Test accuracy"
   ]
  }
 ],
 "metadata": {
  "kernelspec": {
   "display_name": "Python 3",
   "language": "python",
   "name": "python3"
  },
  "language_info": {
   "codemirror_mode": {
    "name": "ipython",
    "version": 3
   },
   "file_extension": ".py",
   "mimetype": "text/x-python",
   "name": "python",
   "nbconvert_exporter": "python",
   "pygments_lexer": "ipython3",
   "version": "3.7.0"
  }
 },
 "nbformat": 4,
 "nbformat_minor": 2
}
