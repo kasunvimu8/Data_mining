{
 "cells": [
  {
   "cell_type": "markdown",
   "metadata": {},
   "source": [
    "### 5) . 1"
   ]
  },
  {
   "cell_type": "code",
   "execution_count": 9,
   "metadata": {},
   "outputs": [],
   "source": [
    "import pandas as pd\n",
    "fileName = 'zooData.csv'\n",
    "data = pd.read_csv(fileName)\n",
    "#print(data);"
   ]
  },
  {
   "cell_type": "markdown",
   "metadata": {},
   "source": [
    "### 5) .2"
   ]
  },
  {
   "cell_type": "code",
   "execution_count": 10,
   "metadata": {},
   "outputs": [
    {
     "name": "stdout",
     "output_type": "stream",
     "text": [
      "0            mammal\n",
      "1            mammal\n",
      "2              fish\n",
      "3            mammal\n",
      "4            mammal\n",
      "5            mammal\n",
      "6            mammal\n",
      "7              fish\n",
      "8              fish\n",
      "9            mammal\n",
      "10           mammal\n",
      "11             bird\n",
      "12             fish\n",
      "13     invertebrate\n",
      "14     invertebrate\n",
      "15     invertebrate\n",
      "16             bird\n",
      "17           mammal\n",
      "18             fish\n",
      "19           mammal\n",
      "20             bird\n",
      "21             bird\n",
      "22           mammal\n",
      "23             bird\n",
      "24           insect\n",
      "25        amphibian\n",
      "26        amphibian\n",
      "27           mammal\n",
      "28           mammal\n",
      "29           mammal\n",
      "           ...     \n",
      "71             bird\n",
      "72     invertebrate\n",
      "73             fish\n",
      "74           mammal\n",
      "75           mammal\n",
      "76          reptile\n",
      "77     invertebrate\n",
      "78             bird\n",
      "79             bird\n",
      "80          reptile\n",
      "81     invertebrate\n",
      "82             fish\n",
      "83             bird\n",
      "84           mammal\n",
      "85     invertebrate\n",
      "86             fish\n",
      "87             bird\n",
      "88           insect\n",
      "89        amphibian\n",
      "90          reptile\n",
      "91          reptile\n",
      "92             fish\n",
      "93           mammal\n",
      "94           mammal\n",
      "95             bird\n",
      "96           mammal\n",
      "97           insect\n",
      "98           mammal\n",
      "99     invertebrate\n",
      "100            bird\n",
      "Name: type, Length: 101, dtype: object\n"
     ]
    }
   ],
   "source": [
    "data.drop(['animalName'], axis=1, inplace=True)\n",
    "Y = data['type']\n",
    "print(Y)"
   ]
  },
  {
   "cell_type": "code",
   "execution_count": 11,
   "metadata": {},
   "outputs": [
    {
     "name": "stdout",
     "output_type": "stream",
     "text": [
      "      hair  feathers   eggs   milk  airborne  aquatic  predator  toothed  \\\n",
      "0     True     False  False   True     False    False      True     True   \n",
      "1     True     False  False   True     False    False     False     True   \n",
      "2    False     False   True  False     False     True      True     True   \n",
      "3     True     False  False   True     False    False      True     True   \n",
      "4     True     False  False   True     False    False      True     True   \n",
      "5     True     False  False   True     False    False     False     True   \n",
      "6     True     False  False   True     False    False     False     True   \n",
      "7    False     False   True  False     False     True     False     True   \n",
      "8    False     False   True  False     False     True      True     True   \n",
      "9     True     False  False   True     False    False     False     True   \n",
      "10    True     False  False   True     False    False      True     True   \n",
      "11   False      True   True  False      True    False     False    False   \n",
      "12   False     False   True  False     False     True      True     True   \n",
      "13   False     False   True  False     False    False      True    False   \n",
      "14   False     False   True  False     False     True      True    False   \n",
      "15   False     False   True  False     False     True      True    False   \n",
      "16   False      True   True  False      True    False      True    False   \n",
      "17    True     False  False   True     False    False     False     True   \n",
      "18   False     False   True  False     False     True      True     True   \n",
      "19   False     False  False   True     False     True      True     True   \n",
      "20   False      True   True  False      True    False     False    False   \n",
      "21   False      True   True  False      True     True     False    False   \n",
      "22    True     False  False   True     False    False     False     True   \n",
      "23   False      True   True  False      True    False     False    False   \n",
      "24   False     False   True  False     False    False     False    False   \n",
      "25   False     False   True  False     False     True      True     True   \n",
      "26   False     False   True  False     False     True      True     True   \n",
      "27    True     False  False   True      True    False     False     True   \n",
      "28    True     False  False   True     False    False     False     True   \n",
      "29    True     False  False   True     False    False      True     True   \n",
      "..     ...       ...    ...    ...       ...      ...       ...      ...   \n",
      "71   False      True   True  False     False    False      True    False   \n",
      "72   False     False  False  False     False    False      True    False   \n",
      "73   False     False   True  False     False     True     False     True   \n",
      "74    True     False  False   True     False     True      True     True   \n",
      "75    True     False  False   True     False     True      True     True   \n",
      "76   False     False  False  False     False     True      True     True   \n",
      "77   False     False   True  False     False     True      True    False   \n",
      "78   False      True   True  False      True     True      True    False   \n",
      "79   False      True   True  False      True     True      True    False   \n",
      "80   False     False   True  False     False    False      True     True   \n",
      "81   False     False   True  False     False    False     False    False   \n",
      "82   False     False   True  False     False     True     False     True   \n",
      "83   False      True   True  False      True    False     False    False   \n",
      "84    True     False  False   True     False    False     False     True   \n",
      "85   False     False   True  False     False     True      True    False   \n",
      "86   False     False   True  False     False     True      True     True   \n",
      "87   False      True   True  False      True     True     False    False   \n",
      "88   False     False   True  False     False    False     False    False   \n",
      "89   False     False   True  False     False     True     False     True   \n",
      "90   False     False   True  False     False    False     False    False   \n",
      "91   False     False   True  False     False    False      True     True   \n",
      "92   False     False   True  False     False     True      True     True   \n",
      "93    True     False  False   True      True    False     False     True   \n",
      "94    True     False  False   True     False    False     False     True   \n",
      "95   False      True   True  False      True    False      True    False   \n",
      "96    True     False  False   True     False    False     False     True   \n",
      "97    True     False   True  False      True    False     False    False   \n",
      "98    True     False  False   True     False    False      True     True   \n",
      "99   False     False   True  False     False    False     False    False   \n",
      "100  False      True   True  False      True    False     False    False   \n",
      "\n",
      "     backbone  breathes  venomous   fins  legs   tail  domestic  catsize  \n",
      "0        True      True     False  False     4  False     False     True  \n",
      "1        True      True     False  False     4   True     False     True  \n",
      "2        True     False     False   True     0   True     False    False  \n",
      "3        True      True     False  False     4  False     False     True  \n",
      "4        True      True     False  False     4   True     False     True  \n",
      "5        True      True     False  False     4   True     False     True  \n",
      "6        True      True     False  False     4   True      True     True  \n",
      "7        True     False     False   True     0   True      True    False  \n",
      "8        True     False     False   True     0   True     False    False  \n",
      "9        True      True     False  False     4  False      True    False  \n",
      "10       True      True     False  False     4   True     False     True  \n",
      "11       True      True     False  False     2   True      True    False  \n",
      "12       True     False     False   True     0   True     False    False  \n",
      "13      False     False     False  False     0  False     False    False  \n",
      "14      False     False     False  False     4  False     False    False  \n",
      "15      False     False     False  False     6  False     False    False  \n",
      "16       True      True     False  False     2   True     False    False  \n",
      "17       True      True     False  False     4   True     False     True  \n",
      "18       True     False     False   True     0   True     False     True  \n",
      "19       True      True     False   True     0   True     False     True  \n",
      "20       True      True     False  False     2   True      True    False  \n",
      "21       True      True     False  False     2   True     False    False  \n",
      "22       True      True     False  False     4   True     False     True  \n",
      "23       True      True     False  False     2   True     False     True  \n",
      "24      False      True     False  False     6  False     False    False  \n",
      "25       True      True     False  False     4  False     False    False  \n",
      "26       True      True      True  False     4  False     False    False  \n",
      "27       True      True     False  False     2   True     False    False  \n",
      "28       True      True     False  False     4   True     False     True  \n",
      "29       True      True     False  False     2  False      True     True  \n",
      "..        ...       ...       ...    ...   ...    ...       ...      ...  \n",
      "71       True      True     False  False     2   True     False     True  \n",
      "72      False      True      True  False     8   True     False    False  \n",
      "73       True     False     False   True     0   True     False    False  \n",
      "74       True      True     False   True     0  False     False     True  \n",
      "75       True      True     False   True     2   True     False     True  \n",
      "76       True     False      True  False     0   True     False    False  \n",
      "77      False     False      True  False     0  False     False    False  \n",
      "78       True      True     False  False     2   True     False    False  \n",
      "79       True      True     False  False     2   True     False    False  \n",
      "80       True      True     False  False     0   True     False    False  \n",
      "81      False      True     False  False     0  False     False    False  \n",
      "82       True     False     False   True     0   True     False    False  \n",
      "83       True      True     False  False     2   True     False    False  \n",
      "84       True      True     False  False     2   True     False    False  \n",
      "85      False     False     False  False     5  False     False    False  \n",
      "86       True     False      True   True     0   True     False     True  \n",
      "87       True      True     False  False     2   True     False     True  \n",
      "88      False      True     False  False     6  False     False    False  \n",
      "89       True      True     False  False     4  False     False    False  \n",
      "90       True      True     False  False     4   True     False     True  \n",
      "91       True      True     False  False     4   True     False    False  \n",
      "92       True     False     False   True     0   True     False     True  \n",
      "93       True      True     False  False     2   True     False    False  \n",
      "94       True      True     False  False     4   True     False    False  \n",
      "95       True      True     False  False     2   True     False     True  \n",
      "96       True      True     False  False     2   True     False     True  \n",
      "97      False      True      True  False     6  False     False    False  \n",
      "98       True      True     False  False     4   True     False     True  \n",
      "99      False      True     False  False     0  False     False    False  \n",
      "100      True      True     False  False     2   True     False    False  \n",
      "\n",
      "[101 rows x 16 columns]\n"
     ]
    }
   ],
   "source": [
    "data1 =data\n",
    "data1.drop(['type'], axis=1, inplace=True)\n",
    "X = data1\n",
    "print(X)"
   ]
  },
  {
   "cell_type": "code",
   "execution_count": 12,
   "metadata": {},
   "outputs": [
    {
     "name": "stdout",
     "output_type": "stream",
     "text": [
      "Training Accuracy:  1.0\n"
     ]
    }
   ],
   "source": [
    "# using training set\n",
    "from sklearn import tree\n",
    "clf = tree.DecisionTreeClassifier()\n",
    "clf = clf.fit(X,Y)\n",
    "print('Training Accuracy: ',clf.score(X,Y)) # Training accuracy"
   ]
  },
  {
   "cell_type": "code",
   "execution_count": 13,
   "metadata": {},
   "outputs": [
    {
     "name": "stdout",
     "output_type": "stream",
     "text": [
      "Test Accuracy:  0.8823529411764706\n"
     ]
    }
   ],
   "source": [
    "# by splitting the data as 2/3 for training and 1/3 for testing\n",
    "from sklearn.model_selection import train_test_split\n",
    "X_train , X_test , Y_train , Y_test = train_test_split(X, Y, test_size =0.333,random_state =0)\n",
    "clf.fit(X_train ,Y_train) # clf is a classifier.\n",
    "print('Test Accuracy: ',clf.score(X_test ,Y_test )) # Test accuracy"
   ]
  },
  {
   "cell_type": "code",
   "execution_count": 15,
   "metadata": {
    "scrolled": true
   },
   "outputs": [
    {
     "name": "stdout",
     "output_type": "stream",
     "text": [
      "[1.         0.91666667 0.91666667 0.90909091 0.9        0.88888889\n",
      " 1.         1.         1.         1.        ]\n",
      "10CV Accuracy: 0.95 (+/- 0.09)\n"
     ]
    },
    {
     "name": "stderr",
     "output_type": "stream",
     "text": [
      "C:\\Users\\user\\Anaconda3\\lib\\site-packages\\sklearn\\model_selection\\_split.py:605: Warning: The least populated class in y has only 4 members, which is too few. The minimum number of members in any class cannot be less than n_splits=10.\n",
      "  % (min_groups, self.n_splits)), Warning)\n"
     ]
    }
   ],
   "source": [
    "# 10-fold cross validation\n",
    "from sklearn.model_selection import cross_val_score\n",
    "scores = cross_val_score(clf, X, Y, cv=10) # 10-fold cross validation\n",
    "print(scores) # Results for all the folds\n",
    "print(\"10CV Accuracy: %0.2f (+/- %0.2f)\" % (scores.mean(),scores.std()*2))"
   ]
  },
  {
   "cell_type": "markdown",
   "metadata": {},
   "source": [
    "#### 10 fold cross validation provides more realistic future performance as it uses the whole test set as trainnig set and also as the test set in each fold and another issue is that training set may be irralavent in future with changing environment.Therefore even the traning set have the highest   accuracy it may be useless for future predictions."
   ]
  },
  {
   "cell_type": "markdown",
   "metadata": {},
   "source": [
    "### 5) . 3"
   ]
  },
  {
   "cell_type": "raw",
   "metadata": {},
   "source": [
    "# using training set\n",
    "it doesn't make any sense of having confusion matrix in trainning set where accuracy is 1.0 (it is a diagonal matrix)."
   ]
  },
  {
   "cell_type": "markdown",
   "metadata": {},
   "source": [
    "#####  DecisionTreeClassifier"
   ]
  },
  {
   "cell_type": "code",
   "execution_count": 16,
   "metadata": {},
   "outputs": [
    {
     "name": "stdout",
     "output_type": "stream",
     "text": [
      "[[ 1  0  0  0  0  0  0]\n",
      " [ 0  6  0  0  0  0  0]\n",
      " [ 0  0  7  0  0  0  0]\n",
      " [ 0  0  0  2  0  0  0]\n",
      " [ 0  0  0  0  2  0  0]\n",
      " [ 0  0  0  0  0 12  0]\n",
      " [ 4  0  0  0  0  0  0]]\n"
     ]
    }
   ],
   "source": [
    "# by splitting the data as 2/3 for training and 1/3 for testing\n",
    "from sklearn.metrics import confusion_matrix\n",
    "from sklearn import tree\n",
    "clf = tree.DecisionTreeClassifier()\n",
    "X_train , X_test , Y_train , Y_test = train_test_split(X, Y, test_size =0.333,random_state =0)\n",
    "clf.fit(X_train ,Y_train) # clf is a classifier.\n",
    "Y_pred = clf.fit(X_train , Y_train ).predict(X_test)\n",
    "print(confusion_matrix(Y_test , Y_pred ))"
   ]
  },
  {
   "cell_type": "markdown",
   "metadata": {},
   "source": [
    "##### obviously accuracy is not 100% .because  both 1 & 7 classified as 1"
   ]
  },
  {
   "cell_type": "markdown",
   "metadata": {},
   "source": [
    "##### MultinomialNB classifier"
   ]
  },
  {
   "cell_type": "code",
   "execution_count": 17,
   "metadata": {},
   "outputs": [
    {
     "name": "stdout",
     "output_type": "stream",
     "text": [
      "[[ 0  0  0  0  1  0  0]\n",
      " [ 0  6  0  0  0  0  0]\n",
      " [ 0  0  7  0  0  0  0]\n",
      " [ 0  0  0  2  0  0  0]\n",
      " [ 0  0  0  0  2  0  0]\n",
      " [ 0  0  0  0  0 12  0]\n",
      " [ 0  0  3  0  0  1  0]]\n"
     ]
    }
   ],
   "source": [
    "from sklearn.naive_bayes import MultinomialNB\n",
    "clf=MultinomialNB() # clf is a classifier.\n",
    "clf.fit(X,Y)\n",
    "X_train , X_test , Y_train , Y_test = train_test_split(X, Y, test_size =0.333,random_state =0)\n",
    "clf.fit(X_train ,Y_train) # clf is a classifier.\n",
    "Y_pred = clf.fit(X_train , Y_train ).predict(X_test)\n",
    "print(confusion_matrix(Y_test , Y_pred ))"
   ]
  },
  {
   "cell_type": "markdown",
   "metadata": {},
   "source": [
    "#####  3 errors in this classifier. 1 is predict as 5 , 3  7's  is predict as 3 and one is predict as 6."
   ]
  },
  {
   "cell_type": "markdown",
   "metadata": {},
   "source": [
    "##### GaussianNB classifier"
   ]
  },
  {
   "cell_type": "code",
   "execution_count": 18,
   "metadata": {},
   "outputs": [
    {
     "name": "stdout",
     "output_type": "stream",
     "text": [
      "[[ 1  0  0  0  0  0  0]\n",
      " [ 0  6  0  0  0  0  0]\n",
      " [ 0  0  7  0  0  0  0]\n",
      " [ 0  0  0  2  0  0  0]\n",
      " [ 0  0  0  0  2  0  0]\n",
      " [ 0  0  0  0  0 12  0]\n",
      " [ 1  0  0  0  2  1  0]]\n"
     ]
    }
   ],
   "source": [
    "from sklearn.naive_bayes import GaussianNB\n",
    "clf = GaussianNB()\n",
    "clf.fit(X,Y)\n",
    "X_train , X_test , Y_train , Y_test = train_test_split(X, Y, test_size =0.333,random_state =0)\n",
    "clf.fit(X_train ,Y_train) # clf is a classifier.\n",
    "Y_pred = clf.fit(X_train , Y_train ).predict(X_test)\n",
    "print(confusion_matrix(Y_test , Y_pred ))"
   ]
  },
  {
   "cell_type": "markdown",
   "metadata": {},
   "source": [
    "##### in above confusion matrix 4 classification errors have happend. (7 classified as 1, 5 & 6)"
   ]
  },
  {
   "cell_type": "markdown",
   "metadata": {},
   "source": [
    "##### Support Vector Machine"
   ]
  },
  {
   "cell_type": "code",
   "execution_count": 19,
   "metadata": {},
   "outputs": [
    {
     "name": "stdout",
     "output_type": "stream",
     "text": [
      "[[ 1  0  0  0  0  0  0]\n",
      " [ 0  6  0  0  0  0  0]\n",
      " [ 0  0  7  0  0  0  0]\n",
      " [ 0  0  0  2  0  0  0]\n",
      " [ 0  0  0  0  2  0  0]\n",
      " [ 0  0  0  0  0 12  0]\n",
      " [ 1  0  3  0  0  0  0]]\n"
     ]
    }
   ],
   "source": [
    "from sklearn import svm\n",
    "clf = svm.SVC(kernel='linear', C=1,gamma=1).fit(X, Y) # clf is a classifier\n",
    "clf.fit(X,Y) # Model\n",
    "X_train , X_test , Y_train , Y_test = train_test_split(X, Y, test_size =0.333,random_state =0)\n",
    "clf.fit(X_train ,Y_train) # clf is a classifier.\n",
    "Y_pred = clf.fit(X_train , Y_train ).predict(X_test)\n",
    "print(confusion_matrix(Y_test , Y_pred ))"
   ]
  },
  {
   "cell_type": "markdown",
   "metadata": {},
   "source": [
    "##### in above confusion matrix 4 classification errors have happend. (7 classified as 1 & 3)"
   ]
  },
  {
   "cell_type": "markdown",
   "metadata": {},
   "source": [
    "### 5 ) . 4"
   ]
  },
  {
   "cell_type": "code",
   "execution_count": 20,
   "metadata": {},
   "outputs": [
    {
     "name": "stdout",
     "output_type": "stream",
     "text": [
      "[1.         0.91666667 0.91666667 0.90909091 0.8        0.88888889\n",
      " 1.         1.         1.         1.        ]\n",
      "10CV Accuracy: 0.94 (+/- 0.13)\n"
     ]
    },
    {
     "name": "stderr",
     "output_type": "stream",
     "text": [
      "C:\\Users\\user\\Anaconda3\\lib\\site-packages\\sklearn\\model_selection\\_split.py:605: Warning: The least populated class in y has only 4 members, which is too few. The minimum number of members in any class cannot be less than n_splits=10.\n",
      "  % (min_groups, self.n_splits)), Warning)\n"
     ]
    }
   ],
   "source": [
    "from sklearn import tree\n",
    "clf = tree.DecisionTreeClassifier()\n",
    "clf.fit(X,Y)\n",
    "from sklearn.model_selection import cross_val_score\n",
    "scores = cross_val_score(clf, X, Y, cv=10) # 10-fold cross validation\n",
    "print(scores) # Results for all the folds\n",
    "print(\"10CV Accuracy: %0.2f (+/- %0.2f)\" % (scores.mean(),scores.std()*2))"
   ]
  },
  {
   "cell_type": "code",
   "execution_count": 21,
   "metadata": {},
   "outputs": [
    {
     "name": "stdout",
     "output_type": "stream",
     "text": [
      "[1.         0.91666667 0.91666667 0.90909091 1.         0.88888889\n",
      " 0.88888889 1.         1.         1.        ]\n",
      "10CV Accuracy: 0.95 (+/- 0.10)\n"
     ]
    },
    {
     "name": "stderr",
     "output_type": "stream",
     "text": [
      "C:\\Users\\user\\Anaconda3\\lib\\site-packages\\sklearn\\model_selection\\_split.py:605: Warning: The least populated class in y has only 4 members, which is too few. The minimum number of members in any class cannot be less than n_splits=10.\n",
      "  % (min_groups, self.n_splits)), Warning)\n"
     ]
    }
   ],
   "source": [
    "from sklearn.naive_bayes import GaussianNB\n",
    "clf = GaussianNB()\n",
    "clf.fit(X,Y)\n",
    "from sklearn.model_selection import cross_val_score\n",
    "scores = cross_val_score(clf, X, Y, cv=10) # 10-fold cross validation\n",
    "print(scores) # Results for all the folds\n",
    "print(\"10CV Accuracy: %0.2f (+/- %0.2f)\" % (scores.mean(),scores.std()*2))"
   ]
  },
  {
   "cell_type": "code",
   "execution_count": 22,
   "metadata": {},
   "outputs": [
    {
     "name": "stdout",
     "output_type": "stream",
     "text": [
      "[0.92307692 0.91666667 0.83333333 0.90909091 0.9        0.88888889\n",
      " 0.88888889 0.77777778 1.         0.875     ]\n",
      "10CV Accuracy: 0.89 (+/- 0.11)\n"
     ]
    },
    {
     "name": "stderr",
     "output_type": "stream",
     "text": [
      "C:\\Users\\user\\Anaconda3\\lib\\site-packages\\sklearn\\model_selection\\_split.py:605: Warning: The least populated class in y has only 4 members, which is too few. The minimum number of members in any class cannot be less than n_splits=10.\n",
      "  % (min_groups, self.n_splits)), Warning)\n"
     ]
    }
   ],
   "source": [
    "from sklearn.naive_bayes import MultinomialNB\n",
    "clf=MultinomialNB() # clf is a classifier.\n",
    "clf.fit(X,Y)\n",
    "from sklearn.model_selection import cross_val_score\n",
    "scores = cross_val_score(clf, X, Y, cv=10) # 10-fold cross validation\n",
    "print(scores) # Results for all the folds\n",
    "print(\"10CV Accuracy: %0.2f (+/- %0.2f)\" % (scores.mean(),scores.std()*2))"
   ]
  },
  {
   "cell_type": "code",
   "execution_count": 23,
   "metadata": {},
   "outputs": [
    {
     "name": "stdout",
     "output_type": "stream",
     "text": [
      "[1.         0.91666667 1.         1.         0.9        1.\n",
      " 1.         1.         1.         1.        ]\n",
      "10CV Accuracy: 0.98 (+/- 0.07)\n"
     ]
    },
    {
     "name": "stderr",
     "output_type": "stream",
     "text": [
      "C:\\Users\\user\\Anaconda3\\lib\\site-packages\\sklearn\\model_selection\\_split.py:605: Warning: The least populated class in y has only 4 members, which is too few. The minimum number of members in any class cannot be less than n_splits=10.\n",
      "  % (min_groups, self.n_splits)), Warning)\n"
     ]
    }
   ],
   "source": [
    "from sklearn import neighbors , datasets\n",
    "clf = neighbors.KNeighborsClassifier(n_neighbors =1) # 1-Nearest Neighbor\n",
    "clf.fit(X,Y) # Model\n",
    "from sklearn.model_selection import cross_val_score\n",
    "scores = cross_val_score(clf, X, Y, cv=10) # 10-fold cross validation\n",
    "print(scores) # Results for all the folds\n",
    "print(\"10CV Accuracy: %0.2f (+/- %0.2f)\" % (scores.mean(),scores.std()*2))"
   ]
  },
  {
   "cell_type": "code",
   "execution_count": 24,
   "metadata": {},
   "outputs": [
    {
     "name": "stdout",
     "output_type": "stream",
     "text": [
      "[1.         0.91666667 0.91666667 0.90909091 0.9        0.88888889\n",
      " 1.         1.         1.         1.        ]\n",
      "10CV Accuracy: 0.95 (+/- 0.09)\n"
     ]
    },
    {
     "name": "stderr",
     "output_type": "stream",
     "text": [
      "C:\\Users\\user\\Anaconda3\\lib\\site-packages\\sklearn\\model_selection\\_split.py:605: Warning: The least populated class in y has only 4 members, which is too few. The minimum number of members in any class cannot be less than n_splits=10.\n",
      "  % (min_groups, self.n_splits)), Warning)\n"
     ]
    }
   ],
   "source": [
    "from sklearn import svm\n",
    "clf = svm.SVC(kernel='linear', C=1,gamma=1).fit(X, Y) # clf is a classifier\n",
    "clf.fit(X,Y) # Model\n",
    "from sklearn.model_selection import cross_val_score\n",
    "scores = cross_val_score(clf, X, Y, cv=10) # 10-fold cross validation\n",
    "print(scores) # Results for all the folds\n",
    "print(\"10CV Accuracy: %0.2f (+/- %0.2f)\" % (scores.mean(),scores.std()*2))"
   ]
  },
  {
   "cell_type": "markdown",
   "metadata": {},
   "source": [
    "### 5 ) . 5"
   ]
  },
  {
   "cell_type": "markdown",
   "metadata": {},
   "source": [
    "##### RandomForest Classifier "
   ]
  },
  {
   "cell_type": "code",
   "execution_count": 26,
   "metadata": {},
   "outputs": [
    {
     "name": "stderr",
     "output_type": "stream",
     "text": [
      "C:\\Users\\user\\Anaconda3\\lib\\site-packages\\sklearn\\model_selection\\_split.py:605: Warning: The least populated class in y has only 4 members, which is too few. The minimum number of members in any class cannot be less than n_splits=10.\n",
      "  % (min_groups, self.n_splits)), Warning)\n"
     ]
    },
    {
     "name": "stdout",
     "output_type": "stream",
     "text": [
      "[1.         0.91666667 0.91666667 0.90909091 1.         0.88888889\n",
      " 1.         1.         1.         1.        ]\n",
      "10CV Accuracy: 0.96 (+/- 0.09)\n",
      "[[ 1  0  0  0  0  0  0]\n",
      " [ 0  6  0  0  0  0  0]\n",
      " [ 0  0  7  0  0  0  0]\n",
      " [ 0  0  0  2  0  0  0]\n",
      " [ 0  0  0  0  2  0  0]\n",
      " [ 0  0  0  0  0 12  0]\n",
      " [ 3  0  1  0  0  0  0]]\n"
     ]
    }
   ],
   "source": [
    "from sklearn.ensemble import RandomForestClassifier\n",
    "clf=RandomForestClassifier(n_estimators=100)\n",
    "clf.fit(X,Y) # Model\n",
    "from sklearn.model_selection import cross_val_score\n",
    "scores = cross_val_score(clf, X, Y, cv=10) # 10-fold cross validation\n",
    "print(scores) # Results for all the folds\n",
    "print(\"10CV Accuracy: %0.2f (+/- %0.2f)\" % (scores.mean(),scores.std()*2))\n",
    "X_train , X_test , Y_train , Y_test = train_test_split(X, Y, test_size =0.333,random_state =0)\n",
    "clf.fit(X_train ,Y_train) # clf is a classifier.\n",
    "Y_pred = clf.fit(X_train , Y_train ).predict(X_test)\n",
    "print(confusion_matrix(Y_test , Y_pred ))"
   ]
  },
  {
   "cell_type": "markdown",
   "metadata": {},
   "source": [
    "##### it has good accuracy like 0.96 compared with other classifications. KNeighborsClassifier has the best accuracy."
   ]
  },
  {
   "cell_type": "code",
   "execution_count": null,
   "metadata": {},
   "outputs": [],
   "source": []
  }
 ],
 "metadata": {
  "kernelspec": {
   "display_name": "Python 3",
   "language": "python",
   "name": "python3"
  },
  "language_info": {
   "codemirror_mode": {
    "name": "ipython",
    "version": 3
   },
   "file_extension": ".py",
   "mimetype": "text/x-python",
   "name": "python",
   "nbconvert_exporter": "python",
   "pygments_lexer": "ipython3",
   "version": "3.7.0"
  }
 },
 "nbformat": 4,
 "nbformat_minor": 2
}
